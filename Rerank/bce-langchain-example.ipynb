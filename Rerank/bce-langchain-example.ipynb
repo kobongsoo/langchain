{
 "cells": [
  {
   "cell_type": "code",
   "execution_count": null,
   "id": "36d82e35-03fa-4bde-b488-7157265318ec",
   "metadata": {},
   "outputs": [],
   "source": [
    "# 출처 : https://github.com/netease-youdao/BCEmbedding?tab=readme-ov-file\n",
    "# bce-embedding 모델과 bce-relank 를 이용하여 langchain으로 RAG 구현 하는 예제 \n",
    "\n",
    "#!pip install BCEmbedding==0.1.5\n",
    "#!pip install pypdf\n",
    "\n",
    "#!pip install -U langchain langchain-community langchain-experimental langchain-core langchain-openai langsmith langchainhub python-dotenv unstructured chromadb faiss-cpu rank_bm25 python-docx sqlalchemy"
   ]
  },
  {
   "cell_type": "code",
   "execution_count": 1,
   "id": "c5fec035-7cce-4a48-aa28-18b25887ccb4",
   "metadata": {},
   "outputs": [
    {
     "name": "stderr",
     "output_type": "stream",
     "text": [
      "/usr/local/lib/python3.10/dist-packages/transformers/utils/generic.py:441: UserWarning: torch.utils._pytree._register_pytree_node is deprecated. Please use torch.utils._pytree.register_pytree_node instead.\n",
      "  _torch_pytree._register_pytree_node(\n"
     ]
    }
   ],
   "source": [
    "# We provide the advanced preproc tokenization for reranking.\n",
    "from BCEmbedding.tools.langchain import BCERerank\n",
    "\n",
    "from langchain.text_splitter import RecursiveCharacterTextSplitter\n",
    "from langchain_community.document_loaders import PyPDFLoader\n",
    "from langchain_community.vectorstores import FAISS\n",
    "\n",
    "from langchain.embeddings import HuggingFaceEmbeddings\n",
    "from langchain_community.vectorstores.utils import DistanceStrategy\n",
    "from langchain.retrievers import ContextualCompressionRetriever"
   ]
  },
  {
   "cell_type": "code",
   "execution_count": 2,
   "id": "05568a5b-3b5c-4f9d-aac8-9e183912e9d3",
   "metadata": {},
   "outputs": [
    {
     "name": "stderr",
     "output_type": "stream",
     "text": [
      "05/20/2024 08:26:50 - [INFO] -sentence_transformers.SentenceTransformer->>>    Load pretrained SentenceTransformer: ./bce-embedding-base_v1\n",
      "/usr/local/lib/python3.10/dist-packages/transformers/utils/generic.py:309: UserWarning: torch.utils._pytree._register_pytree_node is deprecated. Please use torch.utils._pytree.register_pytree_node instead.\n",
      "  _torch_pytree._register_pytree_node(\n",
      "/usr/local/lib/python3.10/dist-packages/transformers/utils/generic.py:309: UserWarning: torch.utils._pytree._register_pytree_node is deprecated. Please use torch.utils._pytree.register_pytree_node instead.\n",
      "  _torch_pytree._register_pytree_node(\n"
     ]
    }
   ],
   "source": [
    "# 임베딩 모델 로딩\n",
    "embedding_model_path = './bce-embedding-base_v1'\n",
    "embedding_model_kwargs = {'device': 'cpu'} # {'device': 'cuda:0'}\n",
    "#embedding_encode_kwargs = {'batch_size': 32, 'normalize_embeddings': True, 'show_progress_bar': False}\n",
    "embedding_encode_kwargs = {'batch_size': 32, 'normalize_embeddings': True}\n",
    "\n",
    "embed_model = HuggingFaceEmbeddings(\n",
    "  model_name=embedding_model_path,\n",
    "  model_kwargs=embedding_model_kwargs,\n",
    "  encode_kwargs=embedding_encode_kwargs\n",
    ")"
   ]
  },
  {
   "cell_type": "code",
   "execution_count": 3,
   "id": "fc91e9f1-d1bf-463b-9ab2-ce9169abb9f8",
   "metadata": {},
   "outputs": [
    {
     "data": {
      "text/plain": [
       "HuggingFaceEmbeddings(client=SentenceTransformer(\n",
       "  (0): Transformer({'max_seq_length': 512, 'do_lower_case': False}) with Transformer model: XLMRobertaModel \n",
       "  (1): Pooling({'word_embedding_dimension': 768, 'pooling_mode_cls_token': True, 'pooling_mode_mean_tokens': False, 'pooling_mode_max_tokens': False, 'pooling_mode_mean_sqrt_len_tokens': False, 'pooling_mode_weightedmean_tokens': False, 'pooling_mode_lasttoken': False, 'include_prompt': True})\n",
       "  (2): Normalize()\n",
       "), model_name='./bce-embedding-base_v1', cache_folder=None, model_kwargs={'device': 'cpu'}, encode_kwargs={'batch_size': 32, 'normalize_embeddings': True}, multi_process=False, show_progress=False)"
      ]
     },
     "execution_count": 3,
     "metadata": {},
     "output_type": "execute_result"
    }
   ],
   "source": [
    "embed_model"
   ]
  },
  {
   "cell_type": "code",
   "execution_count": 4,
   "id": "6f3cd563-9cf0-41db-b9d8-269936b54b21",
   "metadata": {},
   "outputs": [
    {
     "name": "stderr",
     "output_type": "stream",
     "text": [
      "05/20/2024 08:27:08 - [INFO] -BCEmbedding.models.RerankerModel->>>    Loading from `./bce-reranker-base_v1`.\n",
      "05/20/2024 08:27:08 - [INFO] -BCEmbedding.models.RerankerModel->>>    Execute device: cpu;\t gpu num: 0;\t use fp16: False\n"
     ]
    }
   ],
   "source": [
    "# rerank 모델 로딩 \n",
    "# => top_n : 6개\n",
    "reranker_model_path = './bce-reranker-base_v1'\n",
    "reranker_args = {'model': reranker_model_path, 'top_n': 6, 'device': 'cpu'}\n",
    "reranker = BCERerank(**reranker_args)\n"
   ]
  },
  {
   "cell_type": "code",
   "execution_count": 5,
   "id": "59594fc4-d7ad-4117-b1da-57d9c0ccc365",
   "metadata": {},
   "outputs": [
    {
     "data": {
      "text/plain": [
       "BCERerank(client='BCEmbedding.models.RerankerModel', top_n=6, model='./bce-reranker-base_v1')"
      ]
     },
     "execution_count": 5,
     "metadata": {},
     "output_type": "execute_result"
    }
   ],
   "source": [
    "reranker"
   ]
  },
  {
   "cell_type": "code",
   "execution_count": 6,
   "id": "122a702b-06b5-487d-8b82-366c4334127e",
   "metadata": {},
   "outputs": [],
   "source": [
    "# pdf 파일 불러와서 splitter 만듬.\n",
    "\n",
    "documents = PyPDFLoader(\"../doc_test/25.출장여비규정_16.04.01.pdf\").load()\n",
    "text_splitter = RecursiveCharacterTextSplitter(chunk_size=500, chunk_overlap=50)\n",
    "texts = text_splitter.split_documents(documents)"
   ]
  },
  {
   "cell_type": "code",
   "execution_count": 7,
   "id": "88baf4c1-1e70-4fad-9952-63e58a819e20",
   "metadata": {},
   "outputs": [
    {
     "name": "stderr",
     "output_type": "stream",
     "text": [
      "05/20/2024 08:27:35 - [INFO] -faiss.loader->>>    Loading faiss with AVX2 support.\n",
      "05/20/2024 08:27:35 - [INFO] -faiss.loader->>>    Successfully loaded faiss with AVX2 support.\n"
     ]
    },
    {
     "name": "stdout",
     "output_type": "stream",
     "text": [
      "*time:9.19\n"
     ]
    }
   ],
   "source": [
    "import time\n",
    "start_time = time.time()\n",
    "\n",
    "# example 1. retrieval with embedding and reranker\n",
    "retriever = FAISS.from_documents(texts, embed_model, \n",
    "                                 distance_strategy=DistanceStrategy.MAX_INNER_PRODUCT).as_retriever(search_type=\"similarity\", search_kwargs={\"score_threshold\": 0.4, \"k\": 10})\n",
    "\n",
    "# 문맥압축검색기 적용\n",
    "compression_retriever = ContextualCompressionRetriever(\n",
    "    base_compressor=reranker, base_retriever=retriever\n",
    ")\n",
    "\n",
    "end_time = time.time()\n",
    "formatted_elapsed_time = \"{:.2f}\".format(end_time - start_time)\n",
    "print(f'*time:{formatted_elapsed_time}')\n"
   ]
  },
  {
   "cell_type": "code",
   "execution_count": 8,
   "id": "c666c898-ce2d-4b75-a570-d3c041f8f442",
   "metadata": {},
   "outputs": [
    {
     "name": "stderr",
     "output_type": "stream",
     "text": [
      "/usr/local/lib/python3.10/dist-packages/langchain_core/_api/deprecation.py:119: LangChainDeprecationWarning: The method `BaseRetriever.get_relevant_documents` was deprecated in langchain-core 0.1.46 and will be removed in 0.3.0. Use invoke instead.\n",
      "  warn_deprecated(\n",
      "You're using a XLMRobertaTokenizerFast tokenizer. Please note that with a fast tokenizer, using the `__call__` method is faster than using a method to encode the text followed by a call to the `pad` method to get a padded encoding.\n"
     ]
    },
    {
     "name": "stdout",
     "output_type": "stream",
     "text": [
      "*time:2.54\n"
     ]
    }
   ],
   "source": [
    "import time\n",
    "start_time = time.time()\n",
    "\n",
    "query='국내출장시 1박 숙박비는 얼마까지 사용가능한가요?'\n",
    "\n",
    "response = compression_retriever.get_relevant_documents(query)\n",
    "\n",
    "end_time = time.time()\n",
    "formatted_elapsed_time = \"{:.2f}\".format(end_time - start_time)\n",
    "print(f'*time:{formatted_elapsed_time}')"
   ]
  },
  {
   "cell_type": "code",
   "execution_count": 9,
   "id": "86a01af1-cedb-4d41-86ac-a419b13cd019",
   "metadata": {},
   "outputs": [
    {
     "data": {
      "text/plain": [
       "[Document(page_content='출장여비                                                                            6/9  \\n별표1                     국내출장여비   \\n                                                             \\n \\n(단위 : 원) \\n구 분 철도운임  선박운임  항공운임  자동차운임  일비 \\n(1일당) 숙박비 \\n(1박당) 식비 \\n(1일당) \\n임원이상  실비 \\n(KTX특실) 실비 \\n(1등급) 실비 \\n(일반실) 실비 20,000 실비 25,000 \\n부장이하  실비 \\n(KTX일반) 실비 \\n(2등급) 실비 \\n(일반실) 실비 20,000 실비 \\n(상한액 ㅣ \\n서울특별시  \\n70,000원, \\n광역시 \\n60,000원, \\n그 밖의 지\\n역 50,000\\n원) 20,000 \\n주1. 임원은 일비와 식비를 실비로 정산할 수 있다.', metadata={'source': '../doc_test/25.출장여비규정_16.04.01.pdf', 'page': 5, 'relevance_score': 0.6011719703674316}),\n",
       " Document(page_content='출장여비                                                                            7/9 라 실비(상한액 81) 37 \\n차장 이하 가 26 실비(상한액 155) 67 \\n나 실비(상한액 123) 49 \\n다 실비(상한액 90) 37 \\n라 실비(상한액 77) 30 \\n주 1. 귀국일 및 기내박의  경우, ‘라’ 기준의 일비와 식비만 지급한다 . \\n주 2. 대표이사는  일비, 숙박비, 식비를 실비로 할 수 있다. \\n주 3. 국가 및 도시별 등급 구분은 다음과 같다. \\n가. 가등급: 도쿄, 뉴욕, 런던, 로스엔젤레스 , 모스크바 , 샌프란시스코 , 워싱턴 D.C., 파리, 홍콩, 제네바, \\n싱가포르  \\n나. 나등급 \\n1) 아시아주 ·오세아니아주 : 타이완, 베이징, 인도, 일본, 카자흐스탄 , 파푸아뉴기니 , 사모아, 쿡제도', metadata={'source': '../doc_test/25.출장여비규정_16.04.01.pdf', 'page': 6, 'relevance_score': 0.5636945366859436}),\n",
       " Document(page_content='출장여비                                                                            1/9 출 장 여 비 규 정 \\n \\n      \\n \\n1. 적용대상  \\n1.1 계약직 직원을 포함한 전임직원 (고문 및 용역원은  별도로 정함)의 국내외 출장, 부임, 원격\\n지 근무의 경우에 적용한다  \\n     1.2  정의 \\n1.2.1  출장은 지방자치단체  (시,군이상)를 기준으로  한 행정구역을  달리하고  근무지로부터   \\n50km(네이버지도의  자동차 최단거리  기준) 이상의 지역에서  회사의 업무를 수행하기  \\n위해 여행하는  것을 말한다. 단, 본부장의  전결로 다른 규정을 적용할 경우, 출장으로  보지 않\\n는다.  \\n \\n1.2.2  여비는 운임, 일비, 숙박비, 식비, 이전비, 가족여비  및 준비금으로  구분한다 . \\n \\n \\n구분 내 용 \\n운임 여행 목적지로  이동하기  위해 교통수단을  이용함에  있어 소요되는  비용을 충', metadata={'source': '../doc_test/25.출장여비규정_16.04.01.pdf', 'page': 0, 'relevance_score': 0.5489101409912109}),\n",
       " Document(page_content='운임 , 자동차운임  및 준비금의  전액과  일비 , \\n숙박비  및 식비의  3분의  1에 상당하는  금액  2. 외국  근무  중 대표이사의  허가를  받아  한 \\n차례  한정하여  가족을  그 근무지로  불러오\\n거나  본국으로  귀국시킬  때 \\n \\n \\n \\n출장  기안  절차  및 정산  절차  추가', metadata={'source': '../doc_test/25.출장여비규정_16.04.01.pdf', 'page': 8, 'relevance_score': 0.546105146408081}),\n",
       " Document(page_content='6. 일비, 숙박비 및 식비 \\n6.1. 일비, 숙박비, 식비의 지급 \\n6.1.1. 국내 여행자의  일비, 숙박비 및 식비는 별표 1에 따라 지급하고 , 국외 여행자의  경우는 별표2에 \\n따라 지급한다 . 다만, 부득이한  사유로 숙박비의  상한을 초과하는  여비 지출이 필요한 경우, 국내 여행의 \\n경우에는  숙박비 상한액의  10분의 3을, 국외 여행의 경우 2분의 1을 넘지 아니하는  범위에서  여비를 추가\\n로 지급할 수 있다. 이 경우, 국내 여행의 경우, 본부장의  사전 승인을 득해야 하고, 국외 여행의 경우, \\n대표이사의  사전 승인을 득해야 한다. \\n6.1.2. 일비는 여행일수에  따라 지급하되 , 법인차량을  이용하는  경우에는  일비의 2분의 1을 지급한다 . \\n6.1.3. 식비는 여행일수에  따라 지급한다 . 다만, 수로여행과  항공여행에  는 따로 식비가 필요한 경우에만  \\n식비를 지급한다 . \\n \\n6.2. 동일지역  장기체재  중 일비의 감액', metadata={'source': '../doc_test/25.출장여비규정_16.04.01.pdf', 'page': 1, 'relevance_score': 0.5433354377746582}),\n",
       " Document(page_content='출장여비                                                                            4/9     10.4 출장시 사전에 승인을 득하지 않은 경우, 일비, 식비의 명목으로  법인카드  사용 불가한다 . (접\\n대 등 필요시 출장신청서에  표기) \\n \\n \\n 11. 여비지급의  제한 \\n    11.1  회사가 제공하는  교통편으로  여행하는  경우에는  운임을 지급하지  아니한다 . \\n11.2  사외로부터  여비의 전부 또는 일부를 지급받는  경우 그 부분의 여비는 지급하지  아니한다 . \\n \\n 12. 휴직자, 해직자에  대한 여비 \\n    사무인계  또는 잔무정리등을  위하여 휴직 또는 해직직원  출장시 본직 또는 전직에 상당한 여비 \\n    를 지급한다 . \\n \\n13. 출장중 상병 \\n    임직원이  출장중 부상 또는 질병으로  가족의 간호가 필요하다고  인정될 경우 가족 1인에 대하여', metadata={'source': '../doc_test/25.출장여비규정_16.04.01.pdf', 'page': 3, 'relevance_score': 0.5398775935173035})]"
      ]
     },
     "execution_count": 9,
     "metadata": {},
     "output_type": "execute_result"
    }
   ],
   "source": [
    "response"
   ]
  },
  {
   "cell_type": "code",
   "execution_count": 10,
   "id": "6ebdc316-b05a-4e87-afda-8942f9a84280",
   "metadata": {},
   "outputs": [],
   "source": [
    "from langchain import hub\n",
    "# 단계 6: 프롬프트 생성(Create Prompt)\n",
    "# 프롬프트를 생성합니다.\n",
    "prompt = hub.pull(\"rlm/rag-prompt\")"
   ]
  },
  {
   "cell_type": "code",
   "execution_count": 11,
   "id": "80d3ed25-7895-47a0-866e-4c80fc00986b",
   "metadata": {},
   "outputs": [
    {
     "data": {
      "text/plain": [
       "ChatPromptTemplate(input_variables=['context', 'question'], metadata={'lc_hub_owner': 'rlm', 'lc_hub_repo': 'rag-prompt', 'lc_hub_commit_hash': '50442af133e61576e74536c6556cefe1fac147cad032f4377b60c436e6cdcb6e'}, messages=[HumanMessagePromptTemplate(prompt=PromptTemplate(input_variables=['context', 'question'], template=\"You are an assistant for question-answering tasks. Use the following pieces of retrieved context to answer the question. If you don't know the answer, just say that you don't know. Use three sentences maximum and keep the answer concise.\\nQuestion: {question} \\nContext: {context} \\nAnswer:\"))])"
      ]
     },
     "execution_count": 11,
     "metadata": {},
     "output_type": "execute_result"
    }
   ],
   "source": [
    "prompt"
   ]
  },
  {
   "cell_type": "code",
   "execution_count": null,
   "id": "c1999e00-0bf8-4097-b8be-5a296d674aff",
   "metadata": {},
   "outputs": [],
   "source": [
    "# 루트경로에 .env 파일을 만들고, OPENAI_API_KEY='{API_KEY}' 식으로 입력한다.\n",
    "# API 키를 환경변수로 관리하기 위한 .env설정 파일 로딩\n",
    "import os\n",
    "from dotenv import load_dotenv\n",
    "\n",
    "load_dotenv() # API 키 정보 로드\n",
    "print(f\"[API KEY]\\n{os.environ['OPENAI_API_KEY']}\")"
   ]
  },
  {
   "cell_type": "code",
   "execution_count": 13,
   "id": "291fa05e-a8d3-4a31-9c3d-0ff3769a96bd",
   "metadata": {},
   "outputs": [],
   "source": [
    "from langchain_openai import ChatOpenAI\n",
    "# 단계 7: 언어모델 생성(Create LLM)\n",
    "# 모델(LLM) 을 생성합니다.\n",
    "llm = ChatOpenAI(model_name=\"gpt-3.5-turbo\", temperature=0)"
   ]
  },
  {
   "cell_type": "code",
   "execution_count": 14,
   "id": "cc44d8e4-e438-4759-9de9-3b4d7f07ba25",
   "metadata": {},
   "outputs": [],
   "source": [
    "from langchain_core.runnables import RunnablePassthrough\n",
    "from langchain_core.output_parsers import StrOutputParser\n",
    "\n",
    "def format_docs(docs):\n",
    "    # 검색한 문서 결과를 하나의 문단으로 합쳐줍니다.\n",
    "    return \"\\n\\n\".join(doc.page_content for doc in docs)\n",
    "    \n",
    "# 단계 8: 체인 생성(Create Chain)\n",
    "rag_chain = (\n",
    "    {\"context\": compression_retriever | format_docs, \"question\": RunnablePassthrough()}\n",
    "    | prompt\n",
    "    | llm\n",
    "    | StrOutputParser()\n",
    ")"
   ]
  },
  {
   "cell_type": "code",
   "execution_count": 15,
   "id": "f438f345-2ef4-4ff9-a4d3-6df7370aac56",
   "metadata": {},
   "outputs": [
    {
     "name": "stderr",
     "output_type": "stream",
     "text": [
      "05/20/2024 08:28:54 - [INFO] -httpx->>>    HTTP Request: POST https://api.openai.com/v1/chat/completions \"HTTP/1.1 200 OK\"\n"
     ]
    },
    {
     "name": "stdout",
     "output_type": "stream",
     "text": [
      "[HUMAN]\n",
      "국내출장시 1박 숙박비는 얼마까지 사용가능한가요?\n",
      "\n",
      "[AI]\n",
      "국내출장시 1박 숙박비는 서울특별시 70,000원, 광역시 60,000원, 그 밖의 지역 50,000원까지 사용 가능합니다. 임원 이상은 일비와 식비를 실비로 정산할 수 있습니다. 대표이사는 일비, 숙박비, 식비를 실비로 할 수 있습니다.\n",
      "*time:5.09\n"
     ]
    }
   ],
   "source": [
    "import time\n",
    "start_time = time.time()\n",
    "\n",
    "# 쿼리 해봄.\n",
    "question = \"국내출장시 1박 숙박비는 얼마까지 사용가능한가요?\"\n",
    "response = rag_chain.invoke(question)\n",
    "\n",
    "print(f\"[HUMAN]\\n{question}\\n\")\n",
    "print(f\"[AI]\\n{response}\")\n",
    "\n",
    "end_time = time.time()\n",
    "formatted_elapsed_time = \"{:.2f}\".format(end_time - start_time)\n",
    "print(f'*time:{formatted_elapsed_time}')"
   ]
  },
  {
   "cell_type": "code",
   "execution_count": 16,
   "id": "698270be-e7e0-450f-8a03-fdd549624edd",
   "metadata": {},
   "outputs": [
    {
     "name": "stderr",
     "output_type": "stream",
     "text": [
      "05/20/2024 08:30:05 - [INFO] -httpx->>>    HTTP Request: POST https://api.openai.com/v1/chat/completions \"HTTP/1.1 200 OK\"\n"
     ]
    },
    {
     "name": "stdout",
     "output_type": "stream",
     "text": [
      "[HUMAN]\n",
      "해외 미국 출장시  1박 숙박비는 얼마까지 사용가능한가요?\n",
      "\n",
      "[AI]\n",
      "해외 미국 출장시 1박 숙박비는 실비 중에서 상한액이 155인 경우 67만원까지 사용 가능합니다. 대표이사는 일비, 숙박비, 식비를 실비로 할 수 있으며, 국가 및 도시별 등급에 따라 숙박비가 정해집니다.\n",
      "*time:5.00\n"
     ]
    }
   ],
   "source": [
    "import time\n",
    "start_time = time.time()\n",
    "\n",
    "# 쿼리 해봄.\n",
    "question = \"해외 미국 출장시  1박 숙박비는 얼마까지 사용가능한가요?\"\n",
    "response = rag_chain.invoke(question)\n",
    "\n",
    "print(f\"[HUMAN]\\n{question}\\n\")\n",
    "print(f\"[AI]\\n{response}\")\n",
    "\n",
    "end_time = time.time()\n",
    "formatted_elapsed_time = \"{:.2f}\".format(end_time - start_time)\n",
    "print(f'*time:{formatted_elapsed_time}')"
   ]
  },
  {
   "cell_type": "code",
   "execution_count": null,
   "id": "61748de1-a2e6-4ee3-b085-7ecb16897898",
   "metadata": {},
   "outputs": [],
   "source": []
  }
 ],
 "metadata": {
  "kernelspec": {
   "display_name": "Python 3 (ipykernel)",
   "language": "python",
   "name": "python3"
  },
  "language_info": {
   "codemirror_mode": {
    "name": "ipython",
    "version": 3
   },
   "file_extension": ".py",
   "mimetype": "text/x-python",
   "name": "python",
   "nbconvert_exporter": "python",
   "pygments_lexer": "ipython3",
   "version": "3.10.12"
  }
 },
 "nbformat": 4,
 "nbformat_minor": 5
}
