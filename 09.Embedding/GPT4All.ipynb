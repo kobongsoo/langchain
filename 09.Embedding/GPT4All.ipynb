{
 "cells": [
  {
   "cell_type": "code",
   "execution_count": 1,
   "id": "88f048e6-39a8-453c-ab90-03402ed9870d",
   "metadata": {},
   "outputs": [
    {
     "name": "stdout",
     "output_type": "stream",
     "text": [
      "\u001b[33mWARNING: Running pip as the 'root' user can result in broken permissions and conflicting behaviour with the system package manager. It is recommended to use a virtual environment instead: https://pip.pypa.io/warnings/venv\u001b[0m\u001b[33m\n",
      "\u001b[0mNote: you may need to restart the kernel to use updated packages.\n"
     ]
    }
   ],
   "source": [
    "# GPT4All\n",
    "# => https://gpt4all.io/index.html\n",
    "# GPT4All은 무료로 사용할 수 있는 로컬 실행 기반의 개인정보 보호를 고려한 챗봇입니다.\n",
    "# GPU나 인터넷 연결이 필요하지 않으며, GPT4All Falcon, Wizard 등 인기 있는 모델과 자체 모델을 제공합니다.\n",
    "# 이 노트북에서는 LangChain과 함께 GPT4All embeddings를 사용하는 방법을 설명합니다.\n",
    "\n",
    "%pip install --upgrade --quiet  gpt4all > /dev/null"
   ]
  },
  {
   "cell_type": "code",
   "execution_count": 2,
   "id": "a7fa9037-c959-47dd-bf82-c594a0bf946e",
   "metadata": {},
   "outputs": [
    {
     "name": "stderr",
     "output_type": "stream",
     "text": [
      "Downloading: 100%|██████████| 45.9M/45.9M [00:01<00:00, 30.2MiB/s]\n",
      "Verifying: 100%|██████████| 45.9M/45.9M [00:00<00:00, 805MiB/s]\n"
     ]
    }
   ],
   "source": [
    "# GPT4All은 CPU에 최적화된 대조 학습 문장 변환기를 사용하여 임의 길이의 텍스트 문서에 대한 고품질 임베딩 생성을 지원합니다. \n",
    "# 이러한 임베딩은 OpenAI를 사용하는 많은 작업에서 품질이 비슷합니다.\n",
    "\n",
    "from langchain_community.embeddings import GPT4AllEmbeddings\n",
    "\n",
    "gpt4all_embd = GPT4AllEmbeddings()  # GPT4All 임베딩 객체를 생성합니다."
   ]
  },
  {
   "cell_type": "code",
   "execution_count": 4,
   "id": "ded6aaed-bab8-4484-8c5b-82c544985b9f",
   "metadata": {},
   "outputs": [
    {
     "name": "stdout",
     "output_type": "stream",
     "text": [
      "*벡터길이: 384\n",
      "*벡터: [0.029632480815052986, 0.009243438020348549, 0.09169729053974152, 0.01105726882815361, 0.03184396028518677, 0.030503451824188232, 0.08515709638595581, 0.006115995347499847, -0.014518560841679573, -0.0576338917016983]\n"
     ]
    }
   ],
   "source": [
    "# 임베딩 해봄\n",
    "text = \"임베딩 테스트 문장입니다.\"\n",
    "\n",
    "query_result = gpt4all_embd.embed_query(text)\n",
    "\n",
    "print(f'*벡터길이: {len(query_result)}')\n",
    "print(f'*벡터: {query_result[:10]}')"
   ]
  },
  {
   "cell_type": "code",
   "execution_count": 5,
   "id": "cdf53777-afe1-460e-b25d-814edf4cce35",
   "metadata": {},
   "outputs": [
    {
     "name": "stdout",
     "output_type": "stream",
     "text": [
      "*doc 벡터 수:5\n",
      "*1번째 doc 벡터: [-0.041643936187028885, -0.024543365463614464, 0.07782113552093506, -0.006126308813691139, 0.01693841814994812, 0.0012064252514392138, 0.12372688949108124, -0.0019190440652891994, 0.0589524507522583, -0.04215627908706665]\n",
      "*3번째 doc 벡터: [0.029632480815052986, 0.009243438020348549, 0.09169729053974152, 0.01105726882815361, 0.03184396028518677, 0.030503451824188232, 0.08515709638595581, 0.006115995347499847, -0.014518560841679573, -0.0576338917016983]\n"
     ]
    }
   ],
   "source": [
    "# 도큐먼트 임베딩\n",
    "\n",
    "# embeddings.embed_documents() 함수를 사용하여 텍스트 문서를 임베딩합니다.\n",
    "# text를 리스트 형태로 만들고, 임베딩 함수에 전달합니다.\n",
    "# 함수 호출 결과로 반환된 임베딩 벡터를 doc_result 변수에 할당합니다.\n",
    "\n",
    "text = [\"안녕하세요\", \"날씨가 좋네요\", \"화창한 날씨 입니다.\", \"운동장에서 축구하고 있어요.\", \"반갑습니다.\"]\n",
    "doc_result = gpt4all_embd.embed_documents(text)\n",
    "\n",
    "print(f'*doc 벡터 수:{len(doc_result)}')\n",
    "\n",
    "print(f'*1번째 doc 벡터: {doc_result[0][:10]}')\n",
    "print(f'*3번째 doc 벡터: {doc_result[2][:10]}')"
   ]
  },
  {
   "cell_type": "code",
   "execution_count": null,
   "id": "dafaeb56-f5dd-403e-8f0a-6c6467f64920",
   "metadata": {},
   "outputs": [],
   "source": []
  }
 ],
 "metadata": {
  "kernelspec": {
   "display_name": "Python 3 (ipykernel)",
   "language": "python",
   "name": "python3"
  },
  "language_info": {
   "codemirror_mode": {
    "name": "ipython",
    "version": 3
   },
   "file_extension": ".py",
   "mimetype": "text/x-python",
   "name": "python",
   "nbconvert_exporter": "python",
   "pygments_lexer": "ipython3",
   "version": "3.10.12"
  }
 },
 "nbformat": 4,
 "nbformat_minor": 5
}
