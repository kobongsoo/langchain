{
 "cells": [
  {
   "cell_type": "code",
   "execution_count": null,
   "id": "90896ad8-2f9e-49ad-93de-edd15978d9fe",
   "metadata": {},
   "outputs": [],
   "source": [
    "# 예제 : https://teddylee777.github.io/langchain/rag-tutorial/\n",
    "#\n",
    "# LangChain 설치 및 업데이트\n",
    "#!pip install -U langchain langchain-community langchain-experimental langchain-core langchain-openai langsmith langchainhub python-dotenv unstructured chromadb faiss-cpu rank_bm25 python-docx sqlalchemy"
   ]
  },
  {
   "cell_type": "code",
   "execution_count": null,
   "id": "3dc6765a-ccf7-45bc-8e82-5d9cf07bbb10",
   "metadata": {},
   "outputs": [],
   "source": [
    "import os\n",
    "\n",
    "from langchain import hub\n",
    "from langchain.text_splitter import RecursiveCharacterTextSplitter\n",
    "from langchain_community.document_loaders import WebBaseLoader\n",
    "from langchain_community.vectorstores import Chroma, FAISS\n",
    "from langchain_core.output_parsers import StrOutputParser\n",
    "from langchain_core.runnables import RunnablePassthrough\n",
    "from langchain_openai import ChatOpenAI, OpenAIEmbeddings\n",
    "\n",
    "# 루트경로에 .env 파일을 만들고, OPENAI_API_KEY='{API_KEY}' 식으로 입력한다.\n",
    "# API 키를 환경변수로 관리하기 위한 .env설정 파일 로딩\n",
    "from dotenv import load_dotenv\n",
    "\n",
    "load_dotenv() # API 키 정보 로드\n",
    "print(f\"[API KEY]\\n{os.environ['OPENAI_API_KEY']}\")"
   ]
  },
  {
   "cell_type": "code",
   "execution_count": 2,
   "id": "8f634a3e-8f7b-4ed7-a44f-8123cbc49f7c",
   "metadata": {},
   "outputs": [
    {
     "name": "stderr",
     "output_type": "stream",
     "text": [
      "100%|██████████| 9/9 [00:08<00:00,  1.01it/s]"
     ]
    },
    {
     "name": "stdout",
     "output_type": "stream",
     "text": [
      "문서의 수: 9\n",
      "\n",
      "[페이지내용]\n",
      "대학교 학자금대출 제도\n",
      "\n",
      "목적 : 대학생 자녀를 가진 임직원의 학자금을 대출함으로써 임직원의 복지향상, 근로의욕의 제고 및 장기근속 유도\n",
      "\n",
      "도입기준\n",
      "\n",
      "대학생 자녀를 가진 정규직 임직원\n",
      "\n",
      "지급신청 : 부문장(본부는 본부장) 전결로 그룹웨어를 통해 신청\n",
      "\n",
      "대학교 학자금대출 신청서(그룹웨어)\n",
      "\n",
      "재학증명서, 입학증명서 중 1종 첨부\n",
      "\n",
      "지원절차\n",
      "\n",
      "그룹웨어를 통해 ‘\n",
      "\n",
      "[metadata]\n",
      "{'source': 'doc_test/06.대학교 학자금 대출 지원 제도_20.02.01.txt'}\n",
      "\n"
     ]
    },
    {
     "name": "stderr",
     "output_type": "stream",
     "text": [
      "\n"
     ]
    }
   ],
   "source": [
    "# 단계1: 폴더내 모든 문서 로딩\n",
    "#!pip install unstructured\n",
    "\n",
    "from langchain_community.document_loaders import DirectoryLoader\n",
    "\n",
    "loader = DirectoryLoader(\".\", glob=\"./doc_test/*.txt\", show_progress=True)\n",
    "docs = loader.load()\n",
    "\n",
    "print(f\"문서의 수: {len(docs)}\")\n",
    "\n",
    "# 10번째 페이지의 내용 출력\n",
    "print(f\"\\n[페이지내용]\\n{docs[1].page_content[:200]}\")\n",
    "print(f\"\\n[metadata]\\n{docs[1].metadata}\\n\")"
   ]
  },
  {
   "cell_type": "code",
   "execution_count": 3,
   "id": "e9452f2f-cb1d-4187-8069-cf418a8bcd6f",
   "metadata": {},
   "outputs": [
    {
     "name": "stdout",
     "output_type": "stream",
     "text": [
      "*chunk 수:40\n",
      "\n",
      "*splits[0]:\n",
      "page_content='경조사 지원 규정\\n\\n1. 적용대상\\n\\n계약직 사원을 포함한 임직원(고문 및 용역은 사장이 별도로 결정)\\n\\n2. 경조사 지원기준\\n\\n구 분\\n\\n내 역\\n\\n휴가(일)\\n\\n금액(원)\\n\\n기타\\n\\n경 사\\n\\n본인 결혼\\n\\n자녀 결혼\\n\\n형제자매결혼\\n\\n자녀 출산(배우자)\\n\\n부모 회갑\\n\\n배우자 부모회갑\\n\\n부모고희(칠순)\\n\\n배우자부모고희\\n\\n5\\n\\n1\\n\\n1\\n\\n10\\n\\n1\\n\\n1\\n\\n1\\n\\n1\\n\\n500,000\\n\\n300,000\\n\\n100,000\\n\\n100,000\\n\\n200,000\\n\\n200,000\\n\\n300,000\\n\\n300,000\\n\\n화환 지급\\n\\n화환 지급\\n\\n1회 분할 사용 가능\\n\\n조 사\\n\\n본인 사망\\n\\n배우자 사망\\n\\n부모 사망\\n\\n자녀 사망\\n\\n배우자 부모 사망\\n\\n형제자매 사망\\n\\n조부모/외조부모 사망\\n\\n5\\n\\n5\\n\\n5\\n\\n5\\n\\n3\\n\\n3\\n\\n1,000,000\\n\\n1,000,000\\n\\n1,000,000\\n\\n1,000,000 500,000\\n\\n300,000\\n\\n200,000\\n\\n조화 지급\\n\\n조화 지급\\n\\n조화 지급\\n\\n조화 지급\\n\\n조화 지급\\n\\n조화 지급' metadata={'source': 'doc_test/03.경조사지원규정_12.01.01.txt'}\n"
     ]
    }
   ],
   "source": [
    "from langchain.text_splitter import CharacterTextSplitter, RecursiveCharacterTextSplitter\n",
    "\n",
    "# 단계 2: 문서 분할(Split Documents)\n",
    "text_splitter = RecursiveCharacterTextSplitter(chunk_size=500, chunk_overlap=50)\n",
    "splits = text_splitter.split_documents(docs)\n",
    "\n",
    "print(f'*chunk 수:{len(splits)}\\n')\n",
    "print(f'*splits[0]:\\n{splits[0]}')\n"
   ]
  },
  {
   "cell_type": "code",
   "execution_count": null,
   "id": "caf302d5-5dda-4cee-af88-3a395443fbde",
   "metadata": {},
   "outputs": [],
   "source": [
    "# sqlalchemy 에러가 나면 업그레이드 해준다.\n",
    "#!pip install --upgrade sqlalchemy"
   ]
  },
  {
   "cell_type": "code",
   "execution_count": 4,
   "id": "fed69f7e-a4d8-4bf4-b430-b9744a02e672",
   "metadata": {},
   "outputs": [
    {
     "name": "stderr",
     "output_type": "stream",
     "text": [
      "/MOCOMSYS/anaconda3/envs/bong/lib/python3.9/site-packages/torch/_utils.py:776: UserWarning: TypedStorage is deprecated. It will be removed in the future and UntypedStorage will be the only storage class. This should only matter to you if you are using storages directly.  To access UntypedStorage directly, use tensor.untyped_storage() instead of tensor.storage()\n",
      "  return self.fget.__get__(instance, owner)()\n"
     ]
    }
   ],
   "source": [
    "# 단계 3: 임베딩\n",
    "from langchain.retrievers import BM25Retriever, EnsembleRetriever\n",
    "from langchain_community.vectorstores import FAISS, Chroma\n",
    "from langchain_openai.embeddings import OpenAIEmbeddings\n",
    "from langchain.embeddings import HuggingFaceEmbeddings\n",
    "\n",
    "# 단계 3, 4: 임베딩 & 벡터스토어 생성(Create Vectorstore)\n",
    "# 벡터스토어를 생성합니다.\n",
    "#vectorstore = FAISS.from_documents(documents=splits, embedding=OpenAIEmbeddings(model=\"text-embedding-3-small\"))\n",
    "\n",
    "#vectorstore = Chroma.from_documents(documents=splits, embedding=OpenAIEmbeddings(model=\"text-embedding-3-small\"))\n",
    "\n",
    "# 단계 5: 리트리버 생성(Create Retriever)\n",
    "# 사용자의 질문(query) 에 부합하는 문서를 검색합니다.\n",
    "# 유사도 높은 K 개의 문서를 검색합니다.\n",
    "k = 3\n",
    "\n",
    "# BM25 retriver 생성\n",
    "# (Sparse) bm25 retriever and (Dense) faiss retriever 를 초기화 합니다.\n",
    "bm25_retriever = BM25Retriever.from_documents(splits)\n",
    "bm25_retriever.k = k\n",
    "\n",
    "# 임베딩 retiver 모델을 불러옴.\n",
    "model_name = \"bongsoo/kpf-sbert-v1\"\n",
    "#model_kwargs = {'device': 'cuda'}\n",
    "encode_kwargs = {'normalize_embeddings': True} # set True to compute cosine similarity\n",
    "custom_embedding_model = HuggingFaceEmbeddings(\n",
    "    model_name=model_name,\n",
    "    #model_kwargs=model_kwargs,\n",
    "    encode_kwargs=encode_kwargs\n",
    ")\n",
    "\n",
    "# 임베딩 retriver 생성\n",
    "#faiss_vectorstore = FAISS.from_documents(documents=splits, embedding=OpenAIEmbeddings(model=\"text-embedding-3-small\"))\n",
    "faiss_vectorstore = FAISS.from_documents(documents=splits, embedding=custom_embedding_model)\n",
    "faiss_retriever = faiss_vectorstore.as_retriever(search_kwargs={\"k\": k})\n",
    "\n",
    "# bm25 + 임베딩 retriver 합쳐서 만듬.\n",
    "# initialize the ensemble retriever\n",
    "ensemble_retriever = EnsembleRetriever(\n",
    "    retrievers=[bm25_retriever, faiss_retriever], weights=[0.5, 0.5]\n",
    ")\n"
   ]
  },
  {
   "cell_type": "code",
   "execution_count": 7,
   "id": "d46aebd9-6e81-4c2d-9779-51db9dbedf50",
   "metadata": {},
   "outputs": [
    {
     "name": "stdout",
     "output_type": "stream",
     "text": [
      "RAG-prompt:\n",
      "input_variables=['context', 'question'] metadata={'lc_hub_owner': 'rlm', 'lc_hub_repo': 'rag-prompt', 'lc_hub_commit_hash': '50442af133e61576e74536c6556cefe1fac147cad032f4377b60c436e6cdcb6e'} messages=[HumanMessagePromptTemplate(prompt=PromptTemplate(input_variables=['context', 'question'], template=\"You are an assistant for question-answering tasks. Use the following pieces of retrieved context to answer the question. If you don't know the answer, just say that you don't know. Use three sentences maximum and keep the answer concise.\\nQuestion: {question} \\nContext: {context} \\nAnswer:\"))]\n"
     ]
    }
   ],
   "source": [
    "# 프롬프트를 생성합니다.\n",
    "prompt = hub.pull(\"rlm/rag-prompt\")\n",
    "\n",
    "def format_docs(docs):\n",
    "    # 검색한 문서 결과를 하나의 문단으로 합쳐줍니다.\n",
    "    return \"\\n\\n\\n\".join(doc.page_content for doc in docs)\n"
   ]
  },
  {
   "cell_type": "code",
   "execution_count": 11,
   "id": "24196cf0-0447-4ca7-a0a8-e22944660568",
   "metadata": {},
   "outputs": [
    {
     "name": "stdout",
     "output_type": "stream",
     "text": [
      "문서의 수: 9\n",
      "============================================================\n",
      "[HUMAN]\n",
      "1박2일 서울 출장시 식비는 얼마인가요?\n",
      "\n",
      "[AI]\n",
      "messages=[HumanMessage(content=\"You are an assistant for question-answering tasks. Use the following pieces of retrieved context to answer the question. If you don't know the answer, just say that you don't know. Use three sentences maximum and keep the answer concise.\\nQuestion: 1박2일 서울 출장시 식비는 얼마인가요? \\nContext: [Document(page_content='12. 휴직자, 해직자에 대한 여비\\\\n\\\\n사무인계 또는 잔무정리등을 위하여 휴직 또는 해직직원 출장시 본직 또는 전직에 상당한 여비\\\\n\\\\n를 지급한다.\\\\n\\\\n13. 출장중 상병\\\\n\\\\n임직원이 출장중 부상 또는 질병으로 가족의 간호가 필요하다고 인정될 경우 가족 1인에 대하여\\\\n\\\\n왕복여비로 본인과 동일등급의 여비상당액을 지급하며, 의사의 진단서 등 이를 증명할 수 있는\\\\n\\\\n증빙서류에 의하여 연장체제중의 여비를 지급할 수 있다.\\\\n\\\\n14. 출장중 사망\\\\n\\\\n14.1 사망하였을 경우, 사망지부터 거주지까지의 유해 운구비를 지급한다.\\\\n\\\\n14.2 가족이 유해를 운구할 경우 가족 1인에 대하여 왕복여비로 본인과 동일등급의 여비상당액을\\\\n\\\\n지급한다.\\\\n\\\\n15. 국내출장여비\\\\n\\\\n12.1 지급기준\\\\n\\\\n별표 1에 따라, 일비와 식비는 정액을, 운임과 숙박비는 실비 정산한다.\\\\n\\\\n12.2 당일출장\\\\n\\\\n출장기간이 1일인 출장으로 출장지역에서 4시간 이상 업무수행시 출장여비를 지급한다.\\\\n\\\\n12.3 장기체제\\\\n\\\\n6.2. 규정에 따른다.', metadata={'source': 'doc_test/25.출장여비규정_16.04.01.txt'}), Document(page_content='제6조(원금 상환방법) “을”은 원금을 매월 균등 분할 상환하며, 중도 일시상환 가능하고 “을”이 퇴사할 경우에는 본 계약조건에 상관없이 원리금 잔액을 일시에 상환하여야 한다.\\\\n\\\\n제7조(기타) 본 약정에 정하지 아니한 사항은 당사자간 합의 및 일반 상관례에 의해 처리한다.\\\\n\\\\n201 년 월 일\\\\n\\\\n“갑” 대 여 인 “을” 차 입 인\\\\n\\\\n회사명 : ㈜모코엠시스 (인) 성 명 :\\\\n\\\\n주민등록번호 :\\\\n\\\\n주 소 : 서울 마포구 상암산로 76 주 소 :\\\\n\\\\n대표이사가 아닌 ㈜모코엠시스가 계약 체결 주체로 변경\\\\n\\\\n㈜모코엠시스', metadata={'source': 'doc_test/21.주택자금대출제도_22.01.25.txt'}), Document(page_content='10.1 여비는 출장전 여비 지급기준에 의거 지급함을 원칙으로 한다.\\\\n\\\\n10.2 출장지의 교통 편의상 택시를 타야 할 경우, 출장여비신청서 기안시에 명기하여 사전 승인을 듣하여야 하며, 법인카드를 사용하거나 추후 정산 받을 수 있다.\\\\n\\\\n10.3 용무를 마치고 귀임한 때에는 지체없이 출장결과를 서면으로 보고하여야 한다.\\\\n\\\\n단, 국내출장의 경우 경미한 사항이나 단순한 업무 또는 기밀에 속하는 사항에 대하여는 구두로\\\\n\\\\n보고할 수 있다.\\\\n\\\\n10.4 출장시 사전에 승인을 득하지 않은 경우, 일비, 식비의 명목으로 법인카드 사용 불가한다. (접대 등 필요시 출장신청서에 표기)\\\\n\\\\n11. 여비지급의 제한\\\\n\\\\n11.1 회사가 제공하는 교통편으로 여행하는 경우에는 운임을 지급하지 아니한다.\\\\n\\\\n11.2 사외로부터 여비의 전부 또는 일부를 지급받는 경우 그 부분의 여비는 지급하지 아니한다.\\\\n\\\\n12. 휴직자, 해직자에 대한 여비', metadata={'source': 'doc_test/25.출장여비규정_16.04.01.txt'})] \\nAnswer:\")]\n"
     ]
    }
   ],
   "source": [
    "# 단계 8: 체인 생성(Create Chain)\n",
    "# => 검색된 문서들을 출력함.\n",
    "rag_chain = (\n",
    "    {\"context\": bm25_retriever, \"question\": RunnablePassthrough()}\n",
    "    | prompt\n",
    ")\n",
    "\n",
    "# 단계 8: 체인 실행(Run Chain)\n",
    "# 문서에 대한 질의를 입력하고, 답변을 출력합니다.\n",
    "question = \"1박2일 서울 출장시 식비는 얼마인가요?\"\n",
    "response = rag_chain.invoke(question)\n",
    "\n",
    "# 결과 출력\n",
    "print(f\"문서의 수: {len(docs)}\")\n",
    "print(\"===\" * 20)\n",
    "print(f\"[HUMAN]\\n{question}\\n\")\n",
    "print(f\"[AI]\\n{response}\")"
   ]
  },
  {
   "cell_type": "code",
   "execution_count": null,
   "id": "65fbbcd7-2d88-441c-93fd-809dbf423413",
   "metadata": {},
   "outputs": [],
   "source": []
  }
 ],
 "metadata": {
  "kernelspec": {
   "display_name": "Python 3 (ipykernel)",
   "language": "python",
   "name": "python3"
  },
  "language_info": {
   "codemirror_mode": {
    "name": "ipython",
    "version": 3
   },
   "file_extension": ".py",
   "mimetype": "text/x-python",
   "name": "python",
   "nbconvert_exporter": "python",
   "pygments_lexer": "ipython3",
   "version": "3.10.12"
  }
 },
 "nbformat": 4,
 "nbformat_minor": 5
}
