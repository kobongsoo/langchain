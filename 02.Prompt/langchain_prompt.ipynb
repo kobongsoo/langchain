{
 "cells": [
  {
   "cell_type": "code",
   "execution_count": null,
   "id": "7ab08036-1d23-4868-8e41-a1fcc9b3c150",
   "metadata": {},
   "outputs": [],
   "source": [
    "# 출처 : https://wikidocs.net/233344\n",
    "# LangChain 설치 및 업데이트\n",
    "#!pip install -U langchain langchain-community langchain-experimental langchain-core langchain-openai langsmith langchainhub python-dotenv unstructured chromadb faiss-cpu rank_bm25 python-docx sqlalchemy"
   ]
  },
  {
   "cell_type": "code",
   "execution_count": 1,
   "id": "eb90d89e-709b-4cea-a9a8-befab73e4d06",
   "metadata": {},
   "outputs": [
    {
     "data": {
      "text/plain": [
       "'대한민국의 수도는 어디인가요?'"
      ]
     },
     "execution_count": 1,
     "metadata": {},
     "output_type": "execute_result"
    }
   ],
   "source": [
    "# 템플릿 정의 \n",
    "from langchain.prompts import PromptTemplate\n",
    "\n",
    "# template 정의\n",
    "template = \"{country}의 수도는 어디인가요?\"\n",
    "\n",
    "# 방법1) from_template 메소드를 이용하여 PromptTemplate 객체 생성\n",
    "prompt_template = PromptTemplate.from_template(template)\n",
    "prompt_template\n",
    "\n",
    "# 방법2) PromptTemplate 객체를 활용하여 prompt_template 생성\n",
    "prompt_template = PromptTemplate(\n",
    "    template=template,\n",
    "    input_variables=[\"country\"],\n",
    ")\n",
    "\n",
    "# prompt 생성\n",
    "prompt = prompt_template.format(country=\"대한민국\")\n",
    "prompt"
   ]
  },
  {
   "cell_type": "code",
   "execution_count": 5,
   "id": "209743c7-17fe-4718-b15a-76a1251f7921",
   "metadata": {},
   "outputs": [
    {
     "name": "stdout",
     "output_type": "stream",
     "text": [
      "오늘의 날짜는 2024-05-08 입니다. 오늘이 생일인 유명인 5명을 나열해 주세요.\n"
     ]
    }
   ],
   "source": [
    "# partial_variables: 함수(function) 적용\n",
    "# partial을 사용하는 일반적인 용도는 함수를 부분적으로 사용하는 것입니다. \n",
    "# 이 사용 사례는 항상 공통된 방식으로 가져오고 싶은 변수가 있는 경우입니다.\n",
    "#\n",
    "# 대표적인 예가 날짜나 시간 입니다.\n",
    "\n",
    "from datetime import datetime\n",
    "\n",
    "# 년-월-일 형식으로 오늘 날짜를 반환하는 함수\n",
    "def get_today():\n",
    "    now = datetime.now()\n",
    "    return now.strftime(\"%Y-%m-%d\")\n",
    "\n",
    "\n",
    "prompt_template = PromptTemplate(\n",
    "    template=\"오늘의 날짜는 {today} 입니다. 오늘이 생일인 유명인 {n}명을 나열해 주세요.\",\n",
    "    input_variables=[\"n\"],\n",
    "    partial_variables={\"today\": get_today},  # partial_variables에 함수를 전달\n",
    ")\n",
    "\n",
    "\n",
    "prompt = prompt_template.format(n=5)\n",
    "\n",
    "print(prompt)"
   ]
  },
  {
   "cell_type": "code",
   "execution_count": 6,
   "id": "df02b9bd-e255-402d-853e-aa5f6ac658b7",
   "metadata": {},
   "outputs": [
    {
     "data": {
      "text/plain": [
       "StringPromptValue(text='오늘의 날짜는 2024-05-08 입니다. 오늘이 생일인 유명인 5명을 나열해 주세요.')"
      ]
     },
     "execution_count": 6,
     "metadata": {},
     "output_type": "execute_result"
    }
   ],
   "source": [
    "# RunnablePassthrough 의 활용\n",
    "from langchain_core.runnables import RunnablePassthrough\n",
    "\n",
    "runnable_template = {\"n\": RunnablePassthrough()} | prompt_template\n",
    "\n",
    "runnable_template.invoke(5)"
   ]
  },
  {
   "cell_type": "code",
   "execution_count": null,
   "id": "7222ac23-b2ff-4a27-bc5e-fa2ba3816952",
   "metadata": {},
   "outputs": [],
   "source": []
  }
 ],
 "metadata": {
  "kernelspec": {
   "display_name": "Python 3 (ipykernel)",
   "language": "python",
   "name": "python3"
  },
  "language_info": {
   "codemirror_mode": {
    "name": "ipython",
    "version": 3
   },
   "file_extension": ".py",
   "mimetype": "text/x-python",
   "name": "python",
   "nbconvert_exporter": "python",
   "pygments_lexer": "ipython3",
   "version": "3.10.12"
  }
 },
 "nbformat": 4,
 "nbformat_minor": 5
}
