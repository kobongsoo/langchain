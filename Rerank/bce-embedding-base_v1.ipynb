{
 "cells": [
  {
   "cell_type": "code",
   "execution_count": 1,
   "id": "bdc33061-ae0d-4a5f-9fa3-a27d0224043d",
   "metadata": {},
   "outputs": [],
   "source": [
    "sentences = [\n",
    " \n",
    "\"\"\"\n",
    "        프로젝트 교통비 지원 규정\n",
    "지원비 내역\n",
    "지원비는 대중교통 이용을 원칙으로 한다. 자차를 이용할 경우, 사전에 본부장 전결로 승인 해야함.\n",
    "자차를 이용하는 경우, 유류비와 통행료를 지원하며, 주차료 등 기타 비용은 지원하지 않음.\n",
    "거주지를 기준으로 프로젝트 근무지까지의 거리(거리는 네이버지도, 자동차 최적거리 기준)의 2배를 “일 이동거리”로 규정.\n",
    "“일 이동거리”를 8km(1L당 8km 운행 가정)로 나누어 “필요 유류량”을 산정하고, 오피넷 서울지역 평균 휘발류 가격을 곱하여 “일 유류비”를 산정.\n",
    "뭘 평균 출근일수를 22일에 “일 유류비”를 곱하여 “월 유류비”를 산정.(월 유류비는 매월 변동되는 것이 아니라 기안 시점에 확정된 금액으로 함)\n",
    "유류비는 산정된 “월 유류비” 범위 내에서 개인용 법인카드를 사용하여 충당.\n",
    "사용 내역을 월간경비사용내역서에 포함하여 제출.\n",
    "거주지로부터 프로젝트 근무지까지에서 발생하는 통행료를 실비 지원.\n",
    "영수증 등 증빙서류를 마련하여 월간경비사용내역서에 포함하여 제출.\n",
    "대중교통을 이용하는 경우, 티머니 충전을 통해 교통비를 지원.\n",
    "\n",
    "사업부장은 거주지로부터 프로젝트 근무지까지의 대중교통비를 산정하여(네이버지도, 대중교통 시내교통의 상위 2가지 경로에 해당하는 교통비의 평균) 월 평균 출근일수 22일을 곱하여 “월 교통비”를 산정.\n",
    "(월 교통비는 매월 변동되는 것이 아니라 기안 시점에 확정된 금액으로 함)\n",
    "\n",
    "산정된 월 교통비를 티머니로 충전하고, 영수증 등 증빙서류를 마련하여 월간경비사용내역서에 포함하여 제출.\n",
    "월 중에 대상 여부에 변동이 있을 경우, 일할 계산.\n",
    "\"\"\"\n",
    ",\n",
    "\"\"\"\n",
    "        출장 여비 규정\n",
    "15. 원격지 근무\n",
    "15.1. 출장의 정의에 부합하며, 지사, 사무소가 아닌 지역으로, 회사의 비용으로 숙박시설을 마련해 주는 경우를 원격지 근무라고 한다.\n",
    "15.2.원격지 근무자에게는 숙박비, 운임, 일비, 식비, 원격지근무수당을 지급한다.\n",
    "15.3. 숙박비는 숙박시설을 회사에서 제공(숙박시설 임차 및 숙박에 필요한 기본적인 물품 제공)하는 것으로 하여 별도로 지급하지 아니한다.\n",
    "15.4. 숙박에 필요한 기본 물품 구매는 별표9. 원격지 근무시 필요 물품 구매에 따른다.\n",
    "15.5. 운임은 월 4회(왕복 8회), 근무지에서 서울역까지의 KTX요금 혹은 이에 준하는 교통편의(시외버스 혹은 고속버스) 요금을 현금으로 지급한다.\n",
    "15.6. 일비와 식비는 월 4회(왕복 8회)의 이동일을 기준으로 지급한다.\n",
    "15.6. 운임, 일비, 식비의 지급은 프로젝트 투입일을 기준으로 하여, 매월 선지급하는 것을 원칙으로 한다.\n",
    "15.7. 원격지근무수당은 월 60만원이고, 1달보다 적을 경우, 일할계산하여 지급한다.\n",
    "\"\"\"\n",
    ",\n",
    "\"\"\"\n",
    "        출장 여비 규정\n",
    "7.4. 해외 가족여비\n",
    "해외 가족여비는 해당하는 경우가 발생할 경우, 7.3. 국내 가족여비 규정에 참조하여 규정을 확정하기로 한다.\n",
    "\n",
    "7.5. 준비금\n",
    "7.5.1. 외국에 부임하거나 국외 출장 명령을 받은 자에게는 비자발급비, 예방접종비, 여행자보험가입비, 풍토병 예방약 구입비를 실비로 지급한다.\n",
    "7.5.2. 준비금은 출장여비신청서에 명기하여 기안하고, 월간경비내역서를 통해 신청, 정산한다.\n",
    "\"\"\"\n",
    ",\n",
    "\"\"\"\n",
    "        모코엠시스 위임전결 규정표\n",
    "1. 지출 결의\n",
    "여비교통비 사용\n",
    "23시 이후 야근택시비는 월간경비사용내역서 결재를 통해 승인받습니다.\n",
    "23시 이전 긴급업무 택시비는 사전보고 후 월간경비사용내역서 결재로 사후결재합니다.\n",
    "프로젝트 교통비는 프로젝트 책임자(팀장, 리더, 최상위 직급자)가 기안하고 경영지원부(이사) 합의, 사업부장 전결을 받아야 하며 세부사항은 '프로젝트교통비 지원규정'을 참조합니다.\n",
    "\n",
    "통신비 신청은 팀장이 일괄 신청하고 본부장이 승인합니다.\n",
    "\n",
    "월간경비사용내역서 청구 및 승인은 팀원의 경우 본부장, 팀장 이상은 본부장이 승인합니다.\n",
    "\n",
    "복리후생에 관한 사항 중 입학축하금, 고등학교학자금 신청은 본부장이 승인합니다.\n",
    "의료비, 대출(주택자금, 대학생학자금) 신청 시에는 대출금 총액을 확인한 후 본부장이 승인합니다.\n",
    "\"\"\"\n",
    ",\n",
    "\"\"\"\n",
    "        프로젝트 교통비 지원 규정\n",
    "목적\n",
    "본 규정은 출장여비규정에 적용되지 않지만, 프로젝트로 일정기간 회사가 아닌 곳에 파견되어 업무를 수행하는 경우에 한하여, 교통비를 지원할 필요성이 있다고 사업부장이 판단한 경우, 이를 지원하는 것을 목적으로 한다.\n",
    "적용 대상 프로젝트의 요건\n",
    "프로젝트 근무지까지 출퇴근하는데 대중 교통편 이용이 어려워 자차를 이용하여 출퇴근해야 하는 프로젝트\n",
    "본사로 출퇴근할 때와 비교하여 프로젝트 근무지까지 출퇴근하는데 교통비가 상당히 증가하는 프로젝트\n",
    "그 외 사업부장이 프로젝트 교통비 지원이 필요하다고 인정하는 프로젝트\n",
    "\n",
    "대상자 선정 방식\n",
    "“2항. 적용 대상 프로젝트 요건”에 맞는 프로젝트에 대해, 프로젝트가 시작하기 전에 프로젝트 책임자(팀장 혹은 리더 혹은 최상위직급자)가 기안하고, 경영지원부의 합의를 거처 사업부장이 전결한다.\n",
    "적용 대상의 선정과 관련하여 사후 선정을 불가능하고, 사전에 선정, 결재된 인원에 대하여 적용한다.\n",
    "\"\"\"\n",
    ",\n",
    "\"\"\"\n",
    "        모코엠시스 위임전결 규정표\n",
    "1. 경비지출, 승인에 관한 사항\n",
    "접대비 신청 및 사용에 대해서는 다음과 같습니다.\n",
    "10만원 이상 20만원 미만은 사전보고 후 월간경비사용내역서에 관련 내용을 기재하여 사후 결재합니다.\n",
    "20만원 이하 30만원 미만은 사전접대비신청서를 작성하고 승인을 받아 개인형 기업카드를 사용합니다.\n",
    "30만원 이상은 사전접대비신청서를 작성하고 승인을 받은 후 경영지원본부에서 법인카드를 수령하여 사용합니다.\n",
    "\n",
    "여비교통비 사용에 대해서는 다음과 같습니다.\n",
    "23시 이후 야근택시비는 월간경비사용내역서 결재를 통해 승인받습니다.\n",
    "23시 이전 긴급업무의 택시비는 사전보고 후 월간경비사용내역서 결재를 통해 사후 결재합니다.\n",
    "프로젝트 교통비(대중교통)는 프로젝트 책임자가 기안하고 경영지원부(이사)의 합의와 사업부장의 전결을 받아야 하며, 세부내용은 '프로젝트교통비 지원규정'을 참조합니다.\n",
    "프로젝트 교통비(자차)는 부서장의 승인을 받습니다.\n",
    "\n",
    "통신비 신청에 대해서는 다음과 같습니다.\n",
    "팀원은 팀장이 일괄 신청합니다.\n",
    "팀장은 팀장과 팀원의 통신비를 '통신비 지급 요청서'로 기안하여 경영지원본부장의 합의를 받습니다.\n",
    "부서장은 '통신비 지급 요청서'로 기안합니다.\n",
    "\"\"\"\n",
    "]"
   ]
  },
  {
   "cell_type": "code",
   "execution_count": 2,
   "id": "4587ab0a-2e10-4b32-bbd5-cf4692808bff",
   "metadata": {},
   "outputs": [],
   "source": [
    "# https://github.com/netease-youdao/BCEmbedding?tab=readme-ov-file\n",
    "\n",
    "from sentence_transformers import SentenceTransformer\n",
    "\n",
    "model_path = './bce-embedding-base_v1'\n",
    "\n",
    "model = SentenceTransformer(model_name_or_path=model_path)\n"
   ]
  },
  {
   "cell_type": "code",
   "execution_count": 3,
   "id": "25bc3a10-2dcb-4527-b800-b4379488cccc",
   "metadata": {},
   "outputs": [
    {
     "data": {
      "text/plain": [
       "SentenceTransformer(\n",
       "  (0): Transformer({'max_seq_length': 512, 'do_lower_case': False}) with Transformer model: XLMRobertaModel \n",
       "  (1): Pooling({'word_embedding_dimension': 768, 'pooling_mode_cls_token': True, 'pooling_mode_mean_tokens': False, 'pooling_mode_max_tokens': False, 'pooling_mode_mean_sqrt_len_tokens': False, 'pooling_mode_weightedmean_tokens': False, 'pooling_mode_lasttoken': False, 'include_prompt': True})\n",
       "  (2): Normalize()\n",
       ")"
      ]
     },
     "execution_count": 3,
     "metadata": {},
     "output_type": "execute_result"
    }
   ],
   "source": [
    "model"
   ]
  },
  {
   "cell_type": "code",
   "execution_count": 6,
   "id": "62865927-8f9f-49e9-a4ec-7f76ab4ba8de",
   "metadata": {},
   "outputs": [
    {
     "name": "stdout",
     "output_type": "stream",
     "text": [
      "*time:2.34\n"
     ]
    }
   ],
   "source": [
    "import time\n",
    "start_time = time.time()\n",
    "\n",
    "# extract embeddings\n",
    "embeddings = model.encode(sentences, normalize_embeddings=True)\n",
    "\n",
    "end_time = time.time()\n",
    "formatted_elapsed_time = \"{:.2f}\".format(end_time - start_time)\n",
    "print(f'*time:{formatted_elapsed_time}')"
   ]
  },
  {
   "cell_type": "code",
   "execution_count": 7,
   "id": "7cb8a581-7d3e-448f-a916-4df6affec57f",
   "metadata": {},
   "outputs": [
    {
     "data": {
      "text/plain": [
       "array([[ 0.0271883 ,  0.00350519, -0.01869636, ..., -0.00260493,\n",
       "         0.02168071,  0.02555292],\n",
       "       [ 0.03938941,  0.02568623, -0.00499551, ..., -0.05711497,\n",
       "         0.0399572 ,  0.01809818],\n",
       "       [-0.00035759,  0.01700377, -0.01321371, ..., -0.0533217 ,\n",
       "         0.02138756,  0.00867237],\n",
       "       [ 0.02399542,  0.00187715, -0.01527985, ..., -0.0162374 ,\n",
       "         0.02029494,  0.02640034],\n",
       "       [-0.02651065, -0.00451915, -0.0292996 , ...,  0.00164825,\n",
       "         0.01112722,  0.04686393],\n",
       "       [ 0.01253672,  0.00395439, -0.01473519, ..., -0.00599578,\n",
       "         0.01301726,  0.00144391]], dtype=float32)"
      ]
     },
     "execution_count": 7,
     "metadata": {},
     "output_type": "execute_result"
    }
   ],
   "source": [
    "embeddings"
   ]
  },
  {
   "cell_type": "code",
   "execution_count": 8,
   "id": "63fa58da-db38-422d-9d3d-f7b874c48bc8",
   "metadata": {},
   "outputs": [
    {
     "name": "stderr",
     "output_type": "stream",
     "text": [
      "05/20/2024 07:31:45 - [INFO] -EmbeddingModel->>>    Loading from `./bce-embedding-base_v1`.\n",
      "05/20/2024 07:31:45 - [INFO] -EmbeddingModel->>>    Execute device: cpu;\t gpu num: 0;\t use fp16: False;\t embedding pooling type: cls;\t trust remote code: False\n"
     ]
    }
   ],
   "source": [
    "from BCEmbedding import EmbeddingModel\n",
    "\n",
    "model_path = './bce-embedding-base_v1'\n",
    "\n",
    "# init embedding model\n",
    "model = EmbeddingModel(model_name_or_path=model_path)"
   ]
  },
  {
   "cell_type": "code",
   "execution_count": 9,
   "id": "e163fb1c-4014-469e-8ce6-a1cfaa4db03d",
   "metadata": {},
   "outputs": [
    {
     "name": "stderr",
     "output_type": "stream",
     "text": [
      "Extract embeddings: 100%|██████████| 1/1 [00:02<00:00,  2.69s/it]"
     ]
    },
    {
     "name": "stdout",
     "output_type": "stream",
     "text": [
      "*time:2.70\n"
     ]
    },
    {
     "name": "stderr",
     "output_type": "stream",
     "text": [
      "\n"
     ]
    }
   ],
   "source": [
    "import time\n",
    "start_time = time.time()\n",
    "\n",
    "# extract embeddings\n",
    "embeddings = model.encode(sentences)\n",
    "\n",
    "end_time = time.time()\n",
    "formatted_elapsed_time = \"{:.2f}\".format(end_time - start_time)\n",
    "print(f'*time:{formatted_elapsed_time}')"
   ]
  },
  {
   "cell_type": "code",
   "execution_count": 10,
   "id": "0b6c0ab4-732d-4c3e-8007-7543c18b6dec",
   "metadata": {},
   "outputs": [
    {
     "data": {
      "text/plain": [
       "array([[ 0.02490301,  0.00305007, -0.02044249, ...,  0.00142707,\n",
       "         0.02074346,  0.02483447],\n",
       "       [ 0.03926501,  0.02886375, -0.00611261, ..., -0.06069724,\n",
       "         0.03901438,  0.01925683],\n",
       "       [-0.0085581 ,  0.02154686, -0.01529764, ..., -0.04786468,\n",
       "         0.02343763,  0.01312613],\n",
       "       [ 0.02370556,  0.00227581, -0.01390082, ..., -0.01514979,\n",
       "         0.02120484,  0.02790229],\n",
       "       [-0.03738939,  0.00371114, -0.03021227, ...,  0.01622733,\n",
       "         0.00778157,  0.0480494 ],\n",
       "       [ 0.01288128,  0.00373707, -0.01438339, ..., -0.00630207,\n",
       "         0.01321867,  0.00023128]], dtype=float32)"
      ]
     },
     "execution_count": 10,
     "metadata": {},
     "output_type": "execute_result"
    }
   ],
   "source": [
    "embeddings"
   ]
  },
  {
   "cell_type": "code",
   "execution_count": null,
   "id": "b07472f4-21ac-4bb7-a2cc-84d5c6bb9ee2",
   "metadata": {},
   "outputs": [],
   "source": []
  }
 ],
 "metadata": {
  "kernelspec": {
   "display_name": "Python 3 (ipykernel)",
   "language": "python",
   "name": "python3"
  },
  "language_info": {
   "codemirror_mode": {
    "name": "ipython",
    "version": 3
   },
   "file_extension": ".py",
   "mimetype": "text/x-python",
   "name": "python",
   "nbconvert_exporter": "python",
   "pygments_lexer": "ipython3",
   "version": "3.10.12"
  }
 },
 "nbformat": 4,
 "nbformat_minor": 5
}
