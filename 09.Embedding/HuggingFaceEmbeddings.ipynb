{
 "cells": [
  {
   "cell_type": "code",
   "execution_count": 1,
   "id": "88f048e6-39a8-453c-ab90-03402ed9870d",
   "metadata": {},
   "outputs": [
    {
     "name": "stdout",
     "output_type": "stream",
     "text": [
      "\u001b[33mWARNING: Running pip as the 'root' user can result in broken permissions and conflicting behaviour with the system package manager. It is recommended to use a virtual environment instead: https://pip.pypa.io/warnings/venv\u001b[0m\u001b[33m\n",
      "\u001b[0mNote: you may need to restart the kernel to use updated packages.\n"
     ]
    }
   ],
   "source": [
    "# Hugging Face Embedding\n",
    "# %pip install --upgrade --quiet  langchain sentence_transformers"
   ]
  },
  {
   "cell_type": "code",
   "execution_count": null,
   "id": "3ad1a5e6-3c7b-49d9-8e02-cac334e41887",
   "metadata": {},
   "outputs": [],
   "source": [
    "# 루트경로에 .env 파일을 만들고, OPENAI_API_KEY='{API_KEY}' 식으로 입력한다.\n",
    "# API 키를 환경변수로 관리하기 위한 .env설정 파일 로딩\n",
    "import os\n",
    "from dotenv import load_dotenv\n",
    "\n",
    "load_dotenv() # 허깅페이스 API 토큰 얻어옴.\n",
    "print(f\"[API KEY]\\n{os.environ['HUGGINGFACEHUB_API_TOKEN']}\")\n"
   ]
  },
  {
   "cell_type": "code",
   "execution_count": 9,
   "id": "d802e08c-d6b9-462f-9ede-d79fbc247238",
   "metadata": {},
   "outputs": [
    {
     "data": {
      "text/plain": [
       "\u001b[0;31mInit signature:\u001b[0m\n",
       "\u001b[0mHuggingFaceEmbeddings\u001b[0m\u001b[0;34m(\u001b[0m\u001b[0;34m\u001b[0m\n",
       "\u001b[0;34m\u001b[0m    \u001b[0;34m*\u001b[0m\u001b[0;34m,\u001b[0m\u001b[0;34m\u001b[0m\n",
       "\u001b[0;34m\u001b[0m    \u001b[0mclient\u001b[0m\u001b[0;34m:\u001b[0m \u001b[0mAny\u001b[0m \u001b[0;34m=\u001b[0m \u001b[0;32mNone\u001b[0m\u001b[0;34m,\u001b[0m\u001b[0;34m\u001b[0m\n",
       "\u001b[0;34m\u001b[0m    \u001b[0mmodel_name\u001b[0m\u001b[0;34m:\u001b[0m \u001b[0mstr\u001b[0m \u001b[0;34m=\u001b[0m \u001b[0;34m'sentence-transformers/all-mpnet-base-v2'\u001b[0m\u001b[0;34m,\u001b[0m\u001b[0;34m\u001b[0m\n",
       "\u001b[0;34m\u001b[0m    \u001b[0mcache_folder\u001b[0m\u001b[0;34m:\u001b[0m \u001b[0mOptional\u001b[0m\u001b[0;34m[\u001b[0m\u001b[0mstr\u001b[0m\u001b[0;34m]\u001b[0m \u001b[0;34m=\u001b[0m \u001b[0;32mNone\u001b[0m\u001b[0;34m,\u001b[0m\u001b[0;34m\u001b[0m\n",
       "\u001b[0;34m\u001b[0m    \u001b[0mmodel_kwargs\u001b[0m\u001b[0;34m:\u001b[0m \u001b[0mDict\u001b[0m\u001b[0;34m[\u001b[0m\u001b[0mstr\u001b[0m\u001b[0;34m,\u001b[0m \u001b[0mAny\u001b[0m\u001b[0;34m]\u001b[0m \u001b[0;34m=\u001b[0m \u001b[0;32mNone\u001b[0m\u001b[0;34m,\u001b[0m\u001b[0;34m\u001b[0m\n",
       "\u001b[0;34m\u001b[0m    \u001b[0mencode_kwargs\u001b[0m\u001b[0;34m:\u001b[0m \u001b[0mDict\u001b[0m\u001b[0;34m[\u001b[0m\u001b[0mstr\u001b[0m\u001b[0;34m,\u001b[0m \u001b[0mAny\u001b[0m\u001b[0;34m]\u001b[0m \u001b[0;34m=\u001b[0m \u001b[0;32mNone\u001b[0m\u001b[0;34m,\u001b[0m\u001b[0;34m\u001b[0m\n",
       "\u001b[0;34m\u001b[0m    \u001b[0mmulti_process\u001b[0m\u001b[0;34m:\u001b[0m \u001b[0mbool\u001b[0m \u001b[0;34m=\u001b[0m \u001b[0;32mFalse\u001b[0m\u001b[0;34m,\u001b[0m\u001b[0;34m\u001b[0m\n",
       "\u001b[0;34m\u001b[0m    \u001b[0mshow_progress\u001b[0m\u001b[0;34m:\u001b[0m \u001b[0mbool\u001b[0m \u001b[0;34m=\u001b[0m \u001b[0;32mFalse\u001b[0m\u001b[0;34m,\u001b[0m\u001b[0;34m\u001b[0m\n",
       "\u001b[0;34m\u001b[0m\u001b[0;34m)\u001b[0m \u001b[0;34m->\u001b[0m \u001b[0;32mNone\u001b[0m\u001b[0;34m\u001b[0m\u001b[0;34m\u001b[0m\u001b[0m\n",
       "\u001b[0;31mDocstring:\u001b[0m     \n",
       "HuggingFace sentence_transformers embedding models.\n",
       "\n",
       "To use, you should have the ``sentence_transformers`` python package installed.\n",
       "\n",
       "Example:\n",
       "    .. code-block:: python\n",
       "\n",
       "        from langchain_community.embeddings import HuggingFaceEmbeddings\n",
       "\n",
       "        model_name = \"sentence-transformers/all-mpnet-base-v2\"\n",
       "        model_kwargs = {'device': 'cpu'}\n",
       "        encode_kwargs = {'normalize_embeddings': False}\n",
       "        hf = HuggingFaceEmbeddings(\n",
       "            model_name=model_name,\n",
       "            model_kwargs=model_kwargs,\n",
       "            encode_kwargs=encode_kwargs\n",
       "        )\n",
       "\u001b[0;31mInit docstring:\u001b[0m Initialize the sentence_transformer.\n",
       "\u001b[0;31mFile:\u001b[0m           /usr/local/lib/python3.10/dist-packages/langchain_community/embeddings/huggingface.py\n",
       "\u001b[0;31mType:\u001b[0m           ModelMetaclass\n",
       "\u001b[0;31mSubclasses:\u001b[0m     "
      ]
     },
     "metadata": {},
     "output_type": "display_data"
    }
   ],
   "source": [
    "HuggingFaceEmbeddings?"
   ]
  },
  {
   "cell_type": "code",
   "execution_count": 15,
   "id": "bfb1f024-f463-4ca3-b329-b768f3c93b52",
   "metadata": {},
   "outputs": [
    {
     "name": "stdout",
     "output_type": "stream",
     "text": [
      "*임베딩 모델: bongsoo/kpf-sbert-128d-v1\n"
     ]
    }
   ],
   "source": [
    "# ./cache/ 경로에 다운로드 받도록 설정\n",
    "os.environ[\"HF_HOME\"] = \"./cache/\"\n",
    "\n",
    "from langchain_community.embeddings import (\n",
    "    HuggingFaceEmbeddings,\n",
    "    HuggingFaceBgeEmbeddings,\n",
    ")\n",
    "\n",
    "# model_name = 없으면: 기본 'sentence-transformers/all-mpnet-base-v2' 모델임.\n",
    "#embeddings = HuggingFaceEmbeddings()  # HuggingFace 임베딩을 생성합니다.\n",
    "embeddings = HuggingFaceEmbeddings(\n",
    "    model_name=\"bongsoo/kpf-sbert-128d-v1\", \n",
    "    show_progress=True\n",
    ")\n",
    "\n",
    "print(f'*임베딩 모델: {embeddings.model_name}')"
   ]
  },
  {
   "cell_type": "code",
   "execution_count": 16,
   "id": "a71b79aa-bbf4-4851-b277-9f267377eef4",
   "metadata": {},
   "outputs": [
    {
     "name": "stderr",
     "output_type": "stream",
     "text": [
      "Batches: 100%|██████████| 1/1 [00:00<00:00, 22.08it/s]"
     ]
    },
    {
     "name": "stdout",
     "output_type": "stream",
     "text": [
      "*벡터길이: 128\n",
      "*벡터: [-0.20591969788074493, 0.2096341997385025, 0.00921131856739521, -0.007399042136967182, -0.1793106496334076, 0.1496046781539917, 0.2164066582918167, 0.2643868029117584, 0.15830323100090027, -0.4097329080104828]\n"
     ]
    },
    {
     "name": "stderr",
     "output_type": "stream",
     "text": [
      "\n"
     ]
    }
   ],
   "source": [
    "text = \"임베딩 테스트 문장입니다.\"\n",
    "\n",
    "query_result = embeddings.embed_query(text)\n",
    "\n",
    "print(f'*벡터길이: {len(query_result)}')\n",
    "print(f'*벡터: {query_result[:10]}')"
   ]
  },
  {
   "cell_type": "code",
   "execution_count": 19,
   "id": "4473a8b2-6f46-406a-9500-fc5b2fa58fbe",
   "metadata": {},
   "outputs": [
    {
     "name": "stdout",
     "output_type": "stream",
     "text": [
      "*type:<class 'str'>\n",
      "*file:\n",
      "급여규정\n",
      "1. 목적\n",
      "이 규정은 주식회사 모코엠시스에 근무하는 직원의 급여에 관한 제반사항을 정하여 합리적인 급여관리를 실행함을 목적으로 한다.\n",
      "2. 적용범위\n",
      "직원의 급여는 관계법령\n",
      "\n",
      "*문서 분할 수: 17\n",
      "page_content='급여규정\\n1. 목적\\n이 규정은 주식회사 모코엠시스에 근무하는 직원의 급여에 관한 제반사항을 정하여 합리적인 급여관리를 실행함을 목적으로 한다.\\n2. 적용범위\\n직원의 급여는 관계법령, 기타 별도로 정한 것을 제외하고는 이 규정이 정하는 바에 따른다.\\n3. 급여의 구성\\n3.1 급여는 기본급, 제수당, 상여금, 퇴직금으로 구분한다.\\n3.2 일반적으로 월급여라 함은 기본급과 제수당을 합한 금액을 말한다.\\n4. 급여조정'\n",
      "----------------------------------------\n",
      "page_content='3.2 일반적으로 월급여라 함은 기본급과 제수당을 합한 금액을 말한다.\\n4. 급여조정\\n급여의 인상은 년 1회 1월 1일부로 실시함을 원칙으로 한다.\\n5. 계산과 지급\\n5.1 계산기간\\n급여계산기간은 매월 1일부터 당월 말일까지로 한다.\\n5.2 일할계산\\n5.2.1 급여의 변경이 있는 월의 급여는 일할계산한다.\\n5.2.2 일할계산은 월의 대소에 관계없이 월급여의 1/30로 한다.\\n5.3 일할일수'\n",
      "----------------------------------------\n",
      "page_content='5.2.2 일할계산은 월의 대소에 관계없이 월급여의 1/30로 한다.\\n5.3 일할일수\\n일할계산에 있어 그 일할일수는 실근로일수를 기준으로 한다.\\n5.4 계산단위\\n급여계산은 원단위에서 이를 절사한다.\\n5.5 급여지급일\\n5.5.1 급여지급일은 매월 20일로 한다.\\n단, 지급일이 휴일인 경우에는 그 전일로 한다.\\n5.5.2 비상재해, 기타 부득이한 사유가 발생시에는 지급일을 변경할 수 있다\\n5.6 지급방법'\n",
      "----------------------------------------\n",
      "page_content='5.6 지급방법\\n급여는 통화로 전액을 본인에게 직접 지급하거나 본인이 신청한 본인의 실명계좌에 지급한다.\\n5.7 신규채용 및 복직자 급여\\n5.7.1 신규채용 및 복직자의 급여는 발령일로부터 일할계산한다.\\n5.7.2 신규채용되어 수습기간중에 있는 자는 월급여의 90%를 지급한다.\\n5.7.3 복직자의 급여는 휴직당시 직급·호봉에 해당하는 현급여액을 지급함을 원칙으로 하나, 별도\\n의 정함이 있는 경우에는 그 정한 바에 의한다.\\n5.8 휴직자 급여'\n",
      "----------------------------------------\n",
      "page_content='의 정함이 있는 경우에는 그 정한 바에 의한다.\\n5.8 휴직자 급여\\n5.8.1 업무상 상병으로 인한 휴직기간의 급여는 산업재해보상보험법에 의한 휴업급여를 지급한다.\\n5.8.2 일신상 상병으로 인한 휴직의 경우에는 최초 3개월간 월급여의 100% 지급하며, 그 후 3개\\n월은 월급여의 3/2, 나머지 3개월은 월급여액의 1/3을 지급한다.\\n단, 제 3자와의 합의 등으로 급여에 준하는 보상을 받았거나 받기로 합의된 경우에는 그 금액'\n",
      "----------------------------------------\n",
      "page_content='을 공제한 금액으로 한다.\\n5.8.3 징집명령에 의한 휴직자에 대하여는 휴직발령일로부터 복직발령일 전일까지 급여를 지급하지 \\n아니한다.\\n5.8.4 기타 개인적인 사정으로 휴직하였을 경우 그 기간동안의 급여는 지급하지 아니한다.\\n5.9 퇴직자 급여\\n5.9.1 퇴직자는 퇴직명령전일까지의 급여를 일할계산한다. .\\n5.9.2 급여 지급일 전 최소 1개월 이전에 퇴직의사를 밝히지 않아 발생한 퇴직 당월의 과지급'\n",
      "----------------------------------------\n",
      "page_content='급여는 퇴직금 및 퇴직자에게 지급하여야 할 기타 금품에서 우선 공제한다.\\n5.10 징계처분자 급여\\n징계처분자의 급여는 취업규칙, 인사규정 및 인사위원회의 결정에 의한다.\\n5.11 대기자 급여\\n보직이 없이 본사 인사관리부서에서 대기하고 있는 자는 급여중 보직에 따른 수당은 지급하지 \\n않는다.\\n5.12 겸직자 급여\\n직원이 타직을 겸직한 경우에는 그 겸직에 따라 변동되는 수당을 지급할 수 있다.\\n5.13 전임·파견, 복귀자 급여'\n",
      "----------------------------------------\n",
      "page_content='5.13 전임·파견, 복귀자 급여\\n전임·파견, 복귀자 급여는 발령일을 기준으로 매월 20일까지는 신근무지에서, 21일 이후에는 전근\\n무지에서 지급한다.\\n5.14 휴업지불\\n회사의 귀책사유로 인하여 휴업하는 경우에는 평균임금의 70%이상을 휴업수당으로 지급한다.\\n단, 노동위원회의 승인을 얻은 경우에는 그 범위 이하의 휴업지불을 할 수 있다.\\n5.15 공제\\n급여의 지급에 있어 다음 사항에 해당하는 것은 이를 공제할 수 있다.'\n",
      "----------------------------------------\n",
      "page_content='5.15 공제\\n급여의 지급에 있어 다음 사항에 해당하는 것은 이를 공제할 수 있다.\\n5.15.1 제세금 및 기타 법령에 의하여 정해진 것\\n5.15.2 기타 단체협약이나 개인과 회사간에 협정한 것\\n5.16 지급보류\\n개인의 중과실에 의하여 회사에 손해를 입혔거나 손해가 예상될 경우에는 그 사항이 해결될 때까\\n지 급여지급을 보류할 수 있다.\\n6. 월급여\\n6.1 월급여의 결정\\n월급여는 본인의 능력, 학력, 경력, 직책 등을 고려하여 결정한다.'\n",
      "----------------------------------------\n",
      "page_content='6.1 월급여의 결정\\n월급여는 본인의 능력, 학력, 경력, 직책 등을 고려하여 결정한다.\\n6.2 승급\\n승급은 정기승급과 특별승급으로 구분하며, 다음과 같이 실시한다.\\n6.2.1 정기승급은 매년 1월 1일부로 인사고과에 의하여 인사위원회에서 결정한다.\\n6.2.2 특별승급은 인사위원회의 결정에 의하여 년간 3 LEVEL내에서 실시할 수 있다.\\n6.3 승급기준'\n",
      "----------------------------------------\n",
      "page_content='6.3 승급기준\\n정기승급은 인사고과 결과 상위 5%이내는 5 LEVEL, 5% 초과 25% 이내는 4 LEVEL, 25% 초과 85% 이내는 3 LEVEL, 하위 15%는 2 혹은 1 LEVEL 승급하는 것으로 한다.\\n6.4 승급제한\\n다음 사항에 해당하는 경우에는 승급을 제한 할 수 있다.\\n6.4.1 인사위원회의 결정에 의한 징계처분자\\n6.4.2 당해 승급기준기간 중 인사고과성적이 각 직급별 하위10%이내인 자'\n",
      "----------------------------------------\n",
      "page_content='6.4.2 당해 승급기준기간 중 인사고과성적이 각 직급별 하위10%이내인 자\\n6.4.3 당해 승급기준기간 중 휴직기간이 3개월 초과자. 단, 공상자는 제외\\n6.5 승급보류\\n정기 승급시 휴직인 자는 휴직기간 동안 승급을 보류하고 복직 후 6.2 내지 6.4의 규정에 의거 \\n승급을 실시한다. 단, 공상자는 예외로 한다.\\n6.6 승진자의 월급여\\n6.6.1 직원이 상위직급으로 승진한 경우 승진된 직급의 초임을 적용함을 원칙으로 한다.'\n",
      "----------------------------------------\n",
      "page_content='6.6.1 직원이 상위직급으로 승진한 경우 승진된 직급의 초임을 적용함을 원칙으로 한다.\\n6.6.2 승진후 월급여가 승진전 월급여보다 적은 경우에는 월급여는 승진된 직급의 초임을 적용하되 \\n그 차액은 조정수당으로 지급한다. \\n단, 임금인상, 승급 등에 의한 그 차액의 감소분만큼은 조정수당을 차감, 조정한다.\\n7. 제수당\\n필요시 수당을 별도로 정하여 지급할 수 있다.\\n8. 상여금'\n",
      "----------------------------------------\n",
      "page_content='7. 제수당\\n필요시 수당을 별도로 정하여 지급할 수 있다.\\n8. 상여금\\n8.1 매년 경영성과등을 고려하여 특별 상여금을 지급할수 있다.. \\n8.2 상여금은 지급일 현재 휴직자를 제외한 재직중인 자에 한하여 지급한다.\\n8.3 상여급 지급기준(액)은 별도로 정한다.\\n8.4 상여금은 발령일을 기준으로 금액을 일할 계산하여 지급한다. 이 때, 휴직기간은 일할 계산에서 제외한다.\\n9. 퇴직금\\n9.1 지급대상'\n",
      "----------------------------------------\n",
      "page_content='9. 퇴직금\\n9.1 지급대상\\n퇴직금은 만 1년이상 근속한 직원이 퇴직하였을 경우에 지급한다. \\n9.2 근속기간\\n9.2.1 근속기간은 입사일로부터 퇴직전일까지로 한다\\n9.2.2 근속기간은 년, 월, 일 단위로 계산, (근속연수 × 365) + (근속월수 × 30) + 근속일수에 의\\n해 일수로 계산한다.\\n9.3 퇴직금의 산정방법\\n9.3.1 퇴직금은 근속년수 1년에 대하여 평균임금의 30일분을 지급한다.'\n",
      "----------------------------------------\n",
      "page_content='9.3.1 퇴직금은 근속년수 1년에 대하여 평균임금의 30일분을 지급한다.\\n9.3.2 퇴직금은 평균임금 × 30 × 근속기간 / 365에 의한 방법으로 계산하여 원단위에서 절사한다.\\n9.4 등기임원 선임\\n9.4.1 직원이 등기임원으로 선임되었을 경우에는 발령일을 기준으로 퇴직금을 계산, 지급한다.\\n9.4.2 전항의 경우 직원으로서의 근속기간이 1년미만이라도 일할계산하여 지급한다.\\n10. 부록\\n10.1시행일'\n",
      "----------------------------------------\n",
      "page_content='10. 부록\\n10.1시행일\\n- 이 규정은 2007년 9월 14일부터 제정·시행한다.\\n- 이 규정은 2016년 6월 1일부터 개정, 시행한다.\\n급여규정 1/3'\n",
      "----------------------------------------\n"
     ]
    }
   ],
   "source": [
    "# Faiss와 CacheBackedEmbeddings 이용해서 문서를 임베딩 하는 예시\n",
    "\n",
    "from langchain.storage import LocalFileStore\n",
    "from langchain_community.document_loaders import TextLoader\n",
    "from langchain_community.vectorstores import FAISS\n",
    "from langchain_text_splitters import RecursiveCharacterTextSplitter\n",
    "from langchain.embeddings import CacheBackedEmbeddings\n",
    "\n",
    "# 로컬 파일 저장소 설정\n",
    "# => cache 폴더에 가보면, text-embedding-ada-002b41bd27f-7cf5-5323-bc34-d315497941a6 식으로 각 임베딩 값이 만들어저 있음.\n",
    "store = LocalFileStore(\"./cache/\")\n",
    "#store = InMemoryByteStore()  # 메모리 내 바이트 저장소 생성\n",
    "\n",
    "# 캐시 지원하는 임베딩 생성\n",
    "cached_embedder = CacheBackedEmbeddings.from_bytes_store(\n",
    "    embeddings,\n",
    "    store,\n",
    "    namespace=embeddings.model_name, # 네임스페이스로 임베딩 모델명 지정\n",
    ")\n",
    "\n",
    "# RecursiveCharacterTextSplitter 로 문서를 불러와서 chunk 함.\n",
    "with open(\"../data/04.급여규정_16.06.01.txt\") as f:\n",
    "    file = f.read()\n",
    "\n",
    "print(f'*type:{type(file)}')\n",
    "print(f'*file:\\n{file[:100]}\\n')\n",
    "\n",
    "text_splitter = RecursiveCharacterTextSplitter(\n",
    "    # 청크 크기를 매우 작게 설정합니다. 예시를 위한 설정입니다.\n",
    "    chunk_size=250,\n",
    "    # 청크 간의 중복되는 문자 수를 설정합니다.\n",
    "    chunk_overlap=50,\n",
    "    # 문자열 길이를 계산하는 함수를 지정합니다.\n",
    "    length_function=len,\n",
    "    # 구분자로 정규식을 사용할지 여부를 설정합니다.\n",
    "    is_separator_regex=False,\n",
    ")\n",
    "\n",
    "# text_splitter 이용해서 file 텍스트를 문서단위로 출력\n",
    "# -> separator를 지정하지 않았으므로, 문서에서 기본값 \"\\n\\n\" 로 구분해서 나눔.\n",
    "documents = text_splitter.create_documents([file])\n",
    "print(f'*문서 분할 수: {len(documents)}')\n",
    "\n",
    "for document in documents:\n",
    "    print(document)\n",
    "    print(f'--' * 20)\n",
    "    "
   ]
  },
  {
   "cell_type": "code",
   "execution_count": 20,
   "id": "d052d75c-adb6-4e34-ac71-182e98181e4b",
   "metadata": {},
   "outputs": [
    {
     "name": "stderr",
     "output_type": "stream",
     "text": [
      "Batches: 100%|██████████| 1/1 [00:01<00:00,  1.64s/it]\n"
     ]
    },
    {
     "name": "stdout",
     "output_type": "stream",
     "text": [
      "CPU times: user 13 s, sys: 0 ns, total: 13 s\n",
      "Wall time: 1.99 s\n"
     ]
    }
   ],
   "source": [
    "# 코드 실행 시간을 측정합니다.\n",
    "%time db = FAISS.from_documents(documents, cached_embedder)  # 문서로부터 FAISS 데이터베이스 생성"
   ]
  },
  {
   "cell_type": "code",
   "execution_count": 21,
   "id": "544752b5-866f-4561-b588-2dd8897755be",
   "metadata": {},
   "outputs": [
    {
     "name": "stdout",
     "output_type": "stream",
     "text": [
      "CPU times: user 18.3 ms, sys: 0 ns, total: 18.3 ms\n",
      "Wall time: 240 ms\n"
     ]
    }
   ],
   "source": [
    "# 캐싱된 임베딩을 사용하여 FAISS 데이터베이스 생성\n",
    "# => **벡터 저장소를 다시 생성하려고 하면, 임베딩을 다시 계산할 필요가 없기 때문에 훨씬 더 빠르게 처리됩니다.\n",
    "%time db2 = FAISS.from_documents(documents, cached_embedder)"
   ]
  },
  {
   "cell_type": "code",
   "execution_count": 22,
   "id": "30165422-ec7b-4806-8e35-e0e6e7bb4b9b",
   "metadata": {},
   "outputs": [
    {
     "name": "stdout",
     "output_type": "stream",
     "text": [
      "*벡터길이: 128\n",
      "*벡터: [-0.2059198021888733, 0.20963433384895325, 0.009211340919137001, -0.007399368099868298, -0.17931078374385834, 0.14960499107837677, 0.21640677750110626, 0.26438668370246887, 0.15830320119857788, -0.40973299741744995]\n"
     ]
    }
   ],
   "source": [
    "# Hugging Face Inference API\n",
    "# => 허깅페이스 Inference API를 통해 모델어 접근할수 도 있다.\n",
    "# => 이때는 모델을 다운로드 받거나 설치할 필요없이 호스팅되는 서버에 접근해서 실행된다.\n",
    "\n",
    "from langchain_community.embeddings import HuggingFaceInferenceAPIEmbeddings\n",
    "\n",
    "inference_api_key = os.environ.get(\"HUGGINGFACEHUB_API_TOKEN\")\n",
    "\n",
    "embeddings = HuggingFaceInferenceAPIEmbeddings(\n",
    "    api_key = inference_api_key,\n",
    "    model_name = \"bongsoo/kpf-sbert-128d-v1\",\n",
    ")\n",
    "\n",
    "# 임베딩 해봄\n",
    "text = \"임베딩 테스트 문장입니다.\"\n",
    "\n",
    "query_result = embeddings.embed_query(text)\n",
    "\n",
    "print(f'*벡터길이: {len(query_result)}')\n",
    "print(f'*벡터: {query_result[:10]}')"
   ]
  },
  {
   "cell_type": "code",
   "execution_count": 28,
   "id": "b5313e5d-70a7-4a6c-aa5e-2c95de28c8ff",
   "metadata": {},
   "outputs": [
    {
     "name": "stdout",
     "output_type": "stream",
     "text": [
      "*벡터길이: 128\n",
      "*벡터: [-0.2059198021888733, 0.20963433384895325, 0.009211340919137001, -0.007399368099868298, -0.17931078374385834, 0.14960499107837677, 0.21640677750110626, 0.26438668370246887, 0.15830320119857788, -0.40973299741744995]\n"
     ]
    }
   ],
   "source": [
    "# Hugging Face Hub 이용\n",
    "# !pip install huggingface_hub\n",
    "\n",
    "from langchain_community.embeddings import HuggingFaceHubEmbeddings\n",
    "\n",
    "embeddings = HuggingFaceHubEmbeddings(model=\"bongsoo/kpf-sbert-128d-v1\")\n",
    "\n",
    "# 임베딩 해봄\n",
    "text = \"임베딩 테스트 문장입니다.\"\n",
    "\n",
    "query_result = embeddings.embed_query(text)\n",
    "\n",
    "print(f'*벡터길이: {len(query_result)}')\n",
    "print(f'*벡터: {query_result[:10]}')"
   ]
  }
 ],
 "metadata": {
  "kernelspec": {
   "display_name": "Python 3 (ipykernel)",
   "language": "python",
   "name": "python3"
  },
  "language_info": {
   "codemirror_mode": {
    "name": "ipython",
    "version": 3
   },
   "file_extension": ".py",
   "mimetype": "text/x-python",
   "name": "python",
   "nbconvert_exporter": "python",
   "pygments_lexer": "ipython3",
   "version": "3.10.12"
  }
 },
 "nbformat": 4,
 "nbformat_minor": 5
}
