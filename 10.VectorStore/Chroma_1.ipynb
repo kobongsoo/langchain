{
 "cells": [
  {
   "cell_type": "code",
   "execution_count": 1,
   "id": "254b0d3a-daf3-46e6-952e-ba8c9e75b110",
   "metadata": {},
   "outputs": [],
   "source": [
    "#LangChain에서 지원하는 Vector Store\n",
    "#=> https://python.langchain.com/v0.1/docs/integrations/vectorstores/\n",
    "\n",
    "#Chroma\n",
    "# 크로마는 오픈소스 벡터 데이터베이스입니다. Chroma는 Apache 2.0 라이선스가 부여됩니다.\n",
    "# => 공식도큐먼트 : https://docs.trychroma.com/\n",
    "# => 홈페이지 :  https://www.trychroma.com/\n",
    "\n",
    "# 경고 메시지 무시\n",
    "import warnings\n",
    "warnings.filterwarnings(\"ignore\")\n",
    "\n",
    "#%pip install -qU chromadb\n"
   ]
  },
  {
   "cell_type": "code",
   "execution_count": null,
   "id": "11272753-83b0-447c-842a-071f31caa9f2",
   "metadata": {},
   "outputs": [],
   "source": [
    "# 루트경로에 .env 파일을 만들고, OPENAI_API_KEY='{API_KEY}' 식으로 입력한다.\n",
    "# API 키를 환경변수로 관리하기 위한 .env설정 파일 로딩\n",
    "import os\n",
    "from dotenv import load_dotenv\n",
    "\n",
    "load_dotenv() # API 키 정보 로드\n",
    "print(f\"[OPENAI_API_KEY]\\n{os.environ['OPENAI_API_KEY']}\\n\")\n",
    "print(f\"[HUGGINGFACEHUB_API_TOKEN]\\n{os.environ['HUGGINGFACEHUB_API_TOKEN']}\")"
   ]
  },
  {
   "cell_type": "code",
   "execution_count": 3,
   "id": "afab2ea8-b67c-410b-8cba-c3b275943ff0",
   "metadata": {},
   "outputs": [
    {
     "name": "stdout",
     "output_type": "stream",
     "text": [
      "*type:<class 'str'>\n",
      "*문서 분할 수: 17\n",
      "Doc 0 : page_content='급여규정\\n1. 목적\\n이 규정은 주식회사 모코엠시스에 근무하는 직원의 급여에 관한 제반사항을 정하여 합리적인 급여관리를 실행함을 목적으로 한다.\\n2. 적용범위\\n직원의 급여는 관계법령, 기타 별도로 정한 것을 제외하고는 이 규정이 정하는 바에 따른다.\\n3. 급여의 구성\\n3.1 급여는 기본급, 제수당, 상여금, 퇴직금으로 구분한다.\\n3.2 일반적으로 월급여라 함은 기본급과 제수당을 합한 금액을 말한다.\\n4. 급여조정'\n",
      "\n",
      "Doc 1 : page_content='3.2 일반적으로 월급여라 함은 기본급과 제수당을 합한 금액을 말한다.\\n4. 급여조정\\n급여의 인상은 년 1회 1월 1일부로 실시함을 원칙으로 한다.\\n5. 계산과 지급\\n5.1 계산기간\\n급여계산기간은 매월 1일부터 당월 말일까지로 한다.\\n5.2 일할계산\\n5.2.1 급여의 변경이 있는 월의 급여는 일할계산한다.\\n5.2.2 일할계산은 월의 대소에 관계없이 월급여의 1/30로 한다.\\n5.3 일할일수'\n",
      "\n",
      "Doc 2 : page_content='5.2.2 일할계산은 월의 대소에 관계없이 월급여의 1/30로 한다.\\n5.3 일할일수\\n일할계산에 있어 그 일할일수는 실근로일수를 기준으로 한다.\\n5.4 계산단위\\n급여계산은 원단위에서 이를 절사한다.\\n5.5 급여지급일\\n5.5.1 급여지급일은 매월 20일로 한다.\\n단, 지급일이 휴일인 경우에는 그 전일로 한다.\\n5.5.2 비상재해, 기타 부득이한 사유가 발생시에는 지급일을 변경할 수 있다\\n5.6 지급방법'\n",
      "\n",
      "Doc 3 : page_content='5.6 지급방법\\n급여는 통화로 전액을 본인에게 직접 지급하거나 본인이 신청한 본인의 실명계좌에 지급한다.\\n5.7 신규채용 및 복직자 급여\\n5.7.1 신규채용 및 복직자의 급여는 발령일로부터 일할계산한다.\\n5.7.2 신규채용되어 수습기간중에 있는 자는 월급여의 90%를 지급한다.\\n5.7.3 복직자의 급여는 휴직당시 직급·호봉에 해당하는 현급여액을 지급함을 원칙으로 하나, 별도\\n의 정함이 있는 경우에는 그 정한 바에 의한다.\\n5.8 휴직자 급여'\n",
      "\n",
      "Doc 4 : page_content='의 정함이 있는 경우에는 그 정한 바에 의한다.\\n5.8 휴직자 급여\\n5.8.1 업무상 상병으로 인한 휴직기간의 급여는 산업재해보상보험법에 의한 휴업급여를 지급한다.\\n5.8.2 일신상 상병으로 인한 휴직의 경우에는 최초 3개월간 월급여의 100% 지급하며, 그 후 3개\\n월은 월급여의 3/2, 나머지 3개월은 월급여액의 1/3을 지급한다.\\n단, 제 3자와의 합의 등으로 급여에 준하는 보상을 받았거나 받기로 합의된 경우에는 그 금액'\n",
      "\n",
      "Doc 5 : page_content='을 공제한 금액으로 한다.\\n5.8.3 징집명령에 의한 휴직자에 대하여는 휴직발령일로부터 복직발령일 전일까지 급여를 지급하지 \\n아니한다.\\n5.8.4 기타 개인적인 사정으로 휴직하였을 경우 그 기간동안의 급여는 지급하지 아니한다.\\n5.9 퇴직자 급여\\n5.9.1 퇴직자는 퇴직명령전일까지의 급여를 일할계산한다. .\\n5.9.2 급여 지급일 전 최소 1개월 이전에 퇴직의사를 밝히지 않아 발생한 퇴직 당월의 과지급'\n",
      "\n",
      "Doc 6 : page_content='급여는 퇴직금 및 퇴직자에게 지급하여야 할 기타 금품에서 우선 공제한다.\\n5.10 징계처분자 급여\\n징계처분자의 급여는 취업규칙, 인사규정 및 인사위원회의 결정에 의한다.\\n5.11 대기자 급여\\n보직이 없이 본사 인사관리부서에서 대기하고 있는 자는 급여중 보직에 따른 수당은 지급하지 \\n않는다.\\n5.12 겸직자 급여\\n직원이 타직을 겸직한 경우에는 그 겸직에 따라 변동되는 수당을 지급할 수 있다.\\n5.13 전임·파견, 복귀자 급여'\n",
      "\n",
      "Doc 7 : page_content='5.13 전임·파견, 복귀자 급여\\n전임·파견, 복귀자 급여는 발령일을 기준으로 매월 20일까지는 신근무지에서, 21일 이후에는 전근\\n무지에서 지급한다.\\n5.14 휴업지불\\n회사의 귀책사유로 인하여 휴업하는 경우에는 평균임금의 70%이상을 휴업수당으로 지급한다.\\n단, 노동위원회의 승인을 얻은 경우에는 그 범위 이하의 휴업지불을 할 수 있다.\\n5.15 공제\\n급여의 지급에 있어 다음 사항에 해당하는 것은 이를 공제할 수 있다.'\n",
      "\n",
      "Doc 8 : page_content='5.15 공제\\n급여의 지급에 있어 다음 사항에 해당하는 것은 이를 공제할 수 있다.\\n5.15.1 제세금 및 기타 법령에 의하여 정해진 것\\n5.15.2 기타 단체협약이나 개인과 회사간에 협정한 것\\n5.16 지급보류\\n개인의 중과실에 의하여 회사에 손해를 입혔거나 손해가 예상될 경우에는 그 사항이 해결될 때까\\n지 급여지급을 보류할 수 있다.\\n6. 월급여\\n6.1 월급여의 결정\\n월급여는 본인의 능력, 학력, 경력, 직책 등을 고려하여 결정한다.'\n",
      "\n",
      "Doc 9 : page_content='6.1 월급여의 결정\\n월급여는 본인의 능력, 학력, 경력, 직책 등을 고려하여 결정한다.\\n6.2 승급\\n승급은 정기승급과 특별승급으로 구분하며, 다음과 같이 실시한다.\\n6.2.1 정기승급은 매년 1월 1일부로 인사고과에 의하여 인사위원회에서 결정한다.\\n6.2.2 특별승급은 인사위원회의 결정에 의하여 년간 3 LEVEL내에서 실시할 수 있다.\\n6.3 승급기준'\n",
      "\n",
      "Doc 10 : page_content='6.3 승급기준\\n정기승급은 인사고과 결과 상위 5%이내는 5 LEVEL, 5% 초과 25% 이내는 4 LEVEL, 25% 초과 85% 이내는 3 LEVEL, 하위 15%는 2 혹은 1 LEVEL 승급하는 것으로 한다.\\n6.4 승급제한\\n다음 사항에 해당하는 경우에는 승급을 제한 할 수 있다.\\n6.4.1 인사위원회의 결정에 의한 징계처분자\\n6.4.2 당해 승급기준기간 중 인사고과성적이 각 직급별 하위10%이내인 자'\n",
      "\n",
      "Doc 11 : page_content='6.4.2 당해 승급기준기간 중 인사고과성적이 각 직급별 하위10%이내인 자\\n6.4.3 당해 승급기준기간 중 휴직기간이 3개월 초과자. 단, 공상자는 제외\\n6.5 승급보류\\n정기 승급시 휴직인 자는 휴직기간 동안 승급을 보류하고 복직 후 6.2 내지 6.4의 규정에 의거 \\n승급을 실시한다. 단, 공상자는 예외로 한다.\\n6.6 승진자의 월급여\\n6.6.1 직원이 상위직급으로 승진한 경우 승진된 직급의 초임을 적용함을 원칙으로 한다.'\n",
      "\n",
      "Doc 12 : page_content='6.6.1 직원이 상위직급으로 승진한 경우 승진된 직급의 초임을 적용함을 원칙으로 한다.\\n6.6.2 승진후 월급여가 승진전 월급여보다 적은 경우에는 월급여는 승진된 직급의 초임을 적용하되 \\n그 차액은 조정수당으로 지급한다. \\n단, 임금인상, 승급 등에 의한 그 차액의 감소분만큼은 조정수당을 차감, 조정한다.\\n7. 제수당\\n필요시 수당을 별도로 정하여 지급할 수 있다.\\n8. 상여금'\n",
      "\n",
      "Doc 13 : page_content='7. 제수당\\n필요시 수당을 별도로 정하여 지급할 수 있다.\\n8. 상여금\\n8.1 매년 경영성과등을 고려하여 특별 상여금을 지급할수 있다.. \\n8.2 상여금은 지급일 현재 휴직자를 제외한 재직중인 자에 한하여 지급한다.\\n8.3 상여급 지급기준(액)은 별도로 정한다.\\n8.4 상여금은 발령일을 기준으로 금액을 일할 계산하여 지급한다. 이 때, 휴직기간은 일할 계산에서 제외한다.\\n9. 퇴직금\\n9.1 지급대상'\n",
      "\n",
      "Doc 14 : page_content='9. 퇴직금\\n9.1 지급대상\\n퇴직금은 만 1년이상 근속한 직원이 퇴직하였을 경우에 지급한다. \\n9.2 근속기간\\n9.2.1 근속기간은 입사일로부터 퇴직전일까지로 한다\\n9.2.2 근속기간은 년, 월, 일 단위로 계산, (근속연수 × 365) + (근속월수 × 30) + 근속일수에 의\\n해 일수로 계산한다.\\n9.3 퇴직금의 산정방법\\n9.3.1 퇴직금은 근속년수 1년에 대하여 평균임금의 30일분을 지급한다.'\n",
      "\n",
      "Doc 15 : page_content='9.3.1 퇴직금은 근속년수 1년에 대하여 평균임금의 30일분을 지급한다.\\n9.3.2 퇴직금은 평균임금 × 30 × 근속기간 / 365에 의한 방법으로 계산하여 원단위에서 절사한다.\\n9.4 등기임원 선임\\n9.4.1 직원이 등기임원으로 선임되었을 경우에는 발령일을 기준으로 퇴직금을 계산, 지급한다.\\n9.4.2 전항의 경우 직원으로서의 근속기간이 1년미만이라도 일할계산하여 지급한다.\\n10. 부록\\n10.1시행일'\n",
      "\n",
      "Doc 16 : page_content='10. 부록\\n10.1시행일\\n- 이 규정은 2007년 9월 14일부터 제정·시행한다.\\n- 이 규정은 2016년 6월 1일부터 개정, 시행한다.\\n급여규정 1/3'\n",
      "\n"
     ]
    }
   ],
   "source": [
    "from langchain.text_splitter import RecursiveCharacterTextSplitter\n",
    "\n",
    "with open(\"../data/04.급여규정_16.06.01.txt\") as f:\n",
    "    file = f.read()\n",
    "print(f'*type:{type(file)}')\n",
    "\n",
    "\n",
    "text_splitter = RecursiveCharacterTextSplitter(\n",
    "    # 청크 크기를 매우 작게 설정합니다. 예시를 위한 설정입니다.\n",
    "    chunk_size=250,\n",
    "    # 청크 간의 중복되는 문자 수를 설정합니다.\n",
    "    chunk_overlap=50,\n",
    "    # 문자열 길이를 계산하는 함수를 지정합니다.\n",
    "    length_function=len,\n",
    "    # 구분자로 정규식을 사용할지 여부를 설정합니다.\n",
    "    is_separator_regex=False,\n",
    ")\n",
    "\n",
    "# text_splitter 이용해서 file 텍스트를 문서단위로 출력\n",
    "# -> separator를 지정하지 않았으므로, 문서에서 기본값 \"\\n\\n\" 로 구분해서 나눔.\n",
    "split_docs = text_splitter.create_documents([file])\n",
    "print(f'*문서 분할 수: {len(split_docs)}')\n",
    "for i, split_doc in enumerate(split_docs):\n",
    "    print(f\"Doc {i} : {split_doc}\\n\")"
   ]
  },
  {
   "cell_type": "code",
   "execution_count": 4,
   "id": "f02bf697-c466-419d-98d1-8590bacb71d9",
   "metadata": {},
   "outputs": [
    {
     "name": "stdout",
     "output_type": "stream",
     "text": [
      "*벡터길이:128\n"
     ]
    }
   ],
   "source": [
    "from langchain_community.embeddings.sentence_transformer import SentenceTransformerEmbeddings\n",
    "\n",
    "# 오픈 소스 임베딩 함수를 생성합니다.\n",
    "#stf_embeddings = SentenceTransformerEmbeddings(model_name=\"all-MiniLM-L6-v2\")\n",
    "stf_embeddings = SentenceTransformerEmbeddings(model_name=\"bongsoo/kpf-sbert-128d-v1\")\n",
    "\n",
    "text = \"임베딩 테스트를 하기 위한 샘플 문장입니다.\"  # 테스트용 문서 텍스트를 정의합니다.\n",
    "query_result = stf_embeddings.embed_query(text)\n",
    "print(f'*벡터길이:{len(query_result)}')\n"
   ]
  },
  {
   "cell_type": "code",
   "execution_count": 5,
   "id": "3f7f36b2-75ef-4b64-8baf-1b1672d99dd8",
   "metadata": {},
   "outputs": [
    {
     "name": "stdout",
     "output_type": "stream",
     "text": [
      "CPU times: user 16.4 s, sys: 287 ms, total: 16.7 s\n",
      "Wall time: 2.65 s\n"
     ]
    }
   ],
   "source": [
    "from langchain_community.vectorstores import Chroma\n",
    "\n",
    "# Chroma에 로드합니다.\n",
    "%time db = Chroma.from_documents(split_docs, stf_embeddings)"
   ]
  },
  {
   "cell_type": "code",
   "execution_count": 6,
   "id": "37454c4b-06cd-49e7-a3e3-914eafb075b0",
   "metadata": {},
   "outputs": [
    {
     "name": "stdout",
     "output_type": "stream",
     "text": [
      "*검색된 docs 계수: 4\n",
      "Doc 0 : page_content='7. 제수당\\n필요시 수당을 별도로 정하여 지급할 수 있다.\\n8. 상여금\\n8.1 매년 경영성과등을 고려하여 특별 상여금을 지급할수 있다.. \\n8.2 상여금은 지급일 현재 휴직자를 제외한 재직중인 자에 한하여 지급한다.\\n8.3 상여급 지급기준(액)은 별도로 정한다.\\n8.4 상여금은 발령일을 기준으로 금액을 일할 계산하여 지급한다. 이 때, 휴직기간은 일할 계산에서 제외한다.\\n9. 퇴직금\\n9.1 지급대상'\n",
      "\n",
      "Doc 1 : page_content='10. 부록\\n10.1시행일\\n- 이 규정은 2007년 9월 14일부터 제정·시행한다.\\n- 이 규정은 2016년 6월 1일부터 개정, 시행한다.\\n급여규정 1/3'\n",
      "\n",
      "Doc 2 : page_content='을 공제한 금액으로 한다.\\n5.8.3 징집명령에 의한 휴직자에 대하여는 휴직발령일로부터 복직발령일 전일까지 급여를 지급하지 \\n아니한다.\\n5.8.4 기타 개인적인 사정으로 휴직하였을 경우 그 기간동안의 급여는 지급하지 아니한다.\\n5.9 퇴직자 급여\\n5.9.1 퇴직자는 퇴직명령전일까지의 급여를 일할계산한다. .\\n5.9.2 급여 지급일 전 최소 1개월 이전에 퇴직의사를 밝히지 않아 발생한 퇴직 당월의 과지급'\n",
      "\n",
      "Doc 3 : page_content='6.6.1 직원이 상위직급으로 승진한 경우 승진된 직급의 초임을 적용함을 원칙으로 한다.\\n6.6.2 승진후 월급여가 승진전 월급여보다 적은 경우에는 월급여는 승진된 직급의 초임을 적용하되 \\n그 차액은 조정수당으로 지급한다. \\n단, 임금인상, 승급 등에 의한 그 차액의 감소분만큼은 조정수당을 차감, 조정한다.\\n7. 제수당\\n필요시 수당을 별도로 정하여 지급할 수 있다.\\n8. 상여금'\n",
      "\n"
     ]
    }
   ],
   "source": [
    "# 질의합니다.\n",
    "query = \"신규 입사자 급여는 얼마?\"\n",
    "similar_docs = db.similarity_search(query)\n",
    "print(f\"*검색된 docs 계수: {len(similar_docs)}\")\n",
    "\n",
    "for i, similar_doc in enumerate(similar_docs):\n",
    "    print(f\"Doc {i} : {similar_doc}\\n\")\n"
   ]
  },
  {
   "cell_type": "code",
   "execution_count": 8,
   "id": "0fd7373f-0b43-47ca-84d2-34ace65b3840",
   "metadata": {},
   "outputs": [
    {
     "name": "stdout",
     "output_type": "stream",
     "text": [
      "*검색된 docs 계수: 4\n",
      "Doc 0 : page_content='7. 제수당\\n필요시 수당을 별도로 정하여 지급할 수 있다.\\n8. 상여금\\n8.1 매년 경영성과등을 고려하여 특별 상여금을 지급할수 있다.. \\n8.2 상여금은 지급일 현재 휴직자를 제외한 재직중인 자에 한하여 지급한다.\\n8.3 상여급 지급기준(액)은 별도로 정한다.\\n8.4 상여금은 발령일을 기준으로 금액을 일할 계산하여 지급한다. 이 때, 휴직기간은 일할 계산에서 제외한다.\\n9. 퇴직금\\n9.1 지급대상'\n",
      "\n",
      "Doc 1 : page_content='10. 부록\\n10.1시행일\\n- 이 규정은 2007년 9월 14일부터 제정·시행한다.\\n- 이 규정은 2016년 6월 1일부터 개정, 시행한다.\\n급여규정 1/3'\n",
      "\n",
      "Doc 2 : page_content='을 공제한 금액으로 한다.\\n5.8.3 징집명령에 의한 휴직자에 대하여는 휴직발령일로부터 복직발령일 전일까지 급여를 지급하지 \\n아니한다.\\n5.8.4 기타 개인적인 사정으로 휴직하였을 경우 그 기간동안의 급여는 지급하지 아니한다.\\n5.9 퇴직자 급여\\n5.9.1 퇴직자는 퇴직명령전일까지의 급여를 일할계산한다. .\\n5.9.2 급여 지급일 전 최소 1개월 이전에 퇴직의사를 밝히지 않아 발생한 퇴직 당월의 과지급'\n",
      "\n",
      "Doc 3 : page_content='6.6.1 직원이 상위직급으로 승진한 경우 승진된 직급의 초임을 적용함을 원칙으로 한다.\\n6.6.2 승진후 월급여가 승진전 월급여보다 적은 경우에는 월급여는 승진된 직급의 초임을 적용하되 \\n그 차액은 조정수당으로 지급한다. \\n단, 임금인상, 승급 등에 의한 그 차액의 감소분만큼은 조정수당을 차감, 조정한다.\\n7. 제수당\\n필요시 수당을 별도로 정하여 지급할 수 있다.\\n8. 상여금'\n",
      "\n"
     ]
    }
   ],
   "source": [
    "# 저장할 경로 지정\n",
    "DB_PATH = \"./chroma_db\"\n",
    "\n",
    "# 문서를 디스크에 저장합니다. 저장시 persist_directory에 저장할 경로를 지정합니다.\n",
    "db2 = Chroma.from_documents(split_docs, stf_embeddings, persist_directory=DB_PATH)\n",
    "\n",
    "# 질의합니다.\n",
    "query = \"신규 입사자 급여는 얼마?\"\n",
    "similar_docs = db2.similarity_search(query)\n",
    "print(f\"*검색된 docs 계수: {len(similar_docs)}\")\n",
    "\n",
    "for i, similar_doc in enumerate(similar_docs):\n",
    "    print(f\"Doc {i} : {similar_doc}\\n\")\n"
   ]
  },
  {
   "cell_type": "code",
   "execution_count": 9,
   "id": "356f2cbb-9db1-42ee-9845-bae1e93f2ac9",
   "metadata": {},
   "outputs": [
    {
     "name": "stdout",
     "output_type": "stream",
     "text": [
      "*검색된 docs 계수: 4\n",
      "Doc 0 : page_content='7. 제수당\\n필요시 수당을 별도로 정하여 지급할 수 있다.\\n8. 상여금\\n8.1 매년 경영성과등을 고려하여 특별 상여금을 지급할수 있다.. \\n8.2 상여금은 지급일 현재 휴직자를 제외한 재직중인 자에 한하여 지급한다.\\n8.3 상여급 지급기준(액)은 별도로 정한다.\\n8.4 상여금은 발령일을 기준으로 금액을 일할 계산하여 지급한다. 이 때, 휴직기간은 일할 계산에서 제외한다.\\n9. 퇴직금\\n9.1 지급대상'\n",
      "\n",
      "Doc 1 : page_content='10. 부록\\n10.1시행일\\n- 이 규정은 2007년 9월 14일부터 제정·시행한다.\\n- 이 규정은 2016년 6월 1일부터 개정, 시행한다.\\n급여규정 1/3'\n",
      "\n",
      "Doc 2 : page_content='을 공제한 금액으로 한다.\\n5.8.3 징집명령에 의한 휴직자에 대하여는 휴직발령일로부터 복직발령일 전일까지 급여를 지급하지 \\n아니한다.\\n5.8.4 기타 개인적인 사정으로 휴직하였을 경우 그 기간동안의 급여는 지급하지 아니한다.\\n5.9 퇴직자 급여\\n5.9.1 퇴직자는 퇴직명령전일까지의 급여를 일할계산한다. .\\n5.9.2 급여 지급일 전 최소 1개월 이전에 퇴직의사를 밝히지 않아 발생한 퇴직 당월의 과지급'\n",
      "\n",
      "Doc 3 : page_content='6.6.1 직원이 상위직급으로 승진한 경우 승진된 직급의 초임을 적용함을 원칙으로 한다.\\n6.6.2 승진후 월급여가 승진전 월급여보다 적은 경우에는 월급여는 승진된 직급의 초임을 적용하되 \\n그 차액은 조정수당으로 지급한다. \\n단, 임금인상, 승급 등에 의한 그 차액의 감소분만큼은 조정수당을 차감, 조정한다.\\n7. 제수당\\n필요시 수당을 별도로 정하여 지급할 수 있다.\\n8. 상여금'\n",
      "\n"
     ]
    }
   ],
   "source": [
    "# 로컬 디스크에 저장된 Chroma 데이터베이스를 로드 한 뒤 쿼리합니다.\n",
    "# 디스크에서 문서를 로드합니다.\n",
    "db3 = Chroma(persist_directory=\"./chroma_db\", embedding_function=stf_embeddings)\n",
    "\n",
    "# 질의합니다.\n",
    "query = \"신규 입사자 급여는 얼마?\"\n",
    "similar_docs = db2.similarity_search(query)\n",
    "print(f\"*검색된 docs 계수: {len(similar_docs)}\")\n",
    "\n",
    "for i, similar_doc in enumerate(similar_docs):\n",
    "    print(f\"Doc {i} : {similar_doc}\\n\")\n"
   ]
  },
  {
   "cell_type": "code",
   "execution_count": 18,
   "id": "0de07816-272f-4560-8cb7-483e4e500d6c",
   "metadata": {},
   "outputs": [
    {
     "name": "stdout",
     "output_type": "stream",
     "text": [
      "*ids:['1', '2', '3', '4', '5', '6', '7', '8', '9', '10', '11', '12', '13', '14', '15', '16', '17']\n",
      "{}\n",
      "{'ids': ['1'], 'embeddings': None, 'metadatas': [{'new_value': '테스트용으로 업데이트할 내용입니다.', 'source': '급여규정.txt'}], 'documents': ['7. 제수당\\n필요시 수당을 별도로 정하여 지급할 수 있다.\\n8. 상여금\\n8.1 매년 경영성과등을 고려하여 특별 상여금을 지급할수 있다.. \\n8.2 상여금은 지급일 현재 휴직자를 제외한 재직중인 자에 한하여 지급한다.\\n8.3 상여급 지급기준(액)은 별도로 정한다.\\n8.4 상여금은 발령일을 기준으로 금액을 일할 계산하여 지급한다. 이 때, 휴직기간은 일할 계산에서 제외한다.\\n9. 퇴직금\\n9.1 지급대상'], 'uris': None, 'data': None}\n",
      "*count before 34\n",
      "*count after 33\n"
     ]
    }
   ],
   "source": [
    "# 업데이트 & 삭제\n",
    "\n",
    "# 간단한 ID 생성\n",
    "ids = [str(i) for i in range(1, len(split_docs) + 1)]\n",
    "print(f'*ids:{ids}')\n",
    "\n",
    "# 데이터 추가\n",
    "example_db = Chroma.from_documents(split_docs, stf_embeddings, ids=ids)\n",
    "docs = example_db.similarity_search(query)\n",
    "print(docs[0].metadata)\n",
    "\n",
    "# 문서의 메타데이터 업데이트\n",
    "docs[0].metadata = {\n",
    "    \"source\": \"급여규정.txt\",\n",
    "    \"new_value\": \"테스트용으로 업데이트할 내용입니다.\",\n",
    "}\n",
    "\n",
    "# DB 에 업데이트\n",
    "example_db.update_document(ids[0], docs[0])\n",
    "print(example_db._collection.get(ids=[ids[0]]))\n",
    "\n",
    "# 문서 개수 출력\n",
    "print(\"*count before\", example_db._collection.count())\n",
    "\n",
    "# 마지막 문서 삭제\n",
    "example_db._collection.delete(ids=[ids[-1]])\n",
    "\n",
    "# 삭제 후 문서 개수 출력\n",
    "print(\"*count after\", example_db._collection.count())\n"
   ]
  },
  {
   "cell_type": "code",
   "execution_count": 23,
   "id": "4c084455-2c74-4277-b0d8-46fa600fdaab",
   "metadata": {},
   "outputs": [
    {
     "name": "stdout",
     "output_type": "stream",
     "text": [
      "*filter type: <class 'dict'>\n",
      "{'ids': ['1'], 'embeddings': None, 'metadatas': [{'new_value': '테스트용으로 업데이트할 내용입니다.', 'source': '급여규정.txt'}], 'documents': ['7. 제수당\\n필요시 수당을 별도로 정하여 지급할 수 있다.\\n8. 상여금\\n8.1 매년 경영성과등을 고려하여 특별 상여금을 지급할수 있다.. \\n8.2 상여금은 지급일 현재 휴직자를 제외한 재직중인 자에 한하여 지급한다.\\n8.3 상여급 지급기준(액)은 별도로 정한다.\\n8.4 상여금은 발령일을 기준으로 금액을 일할 계산하여 지급한다. 이 때, 휴직기간은 일할 계산에서 제외한다.\\n9. 퇴직금\\n9.1 지급대상'], 'uris': None, 'data': None}\n",
      "*ids: ['1']\n"
     ]
    }
   ],
   "source": [
    "# metadatas 중 source 기준으로 필터링\n",
    "filter = example_db.get(where={\"source\": \"급여규정.txt\"})\n",
    "\n",
    "print(f'*filter type: {type(filter)}')\n",
    "print(f'{filter}')\n",
    "print(f'*ids: {filter[\"ids\"]}')"
   ]
  }
 ],
 "metadata": {
  "kernelspec": {
   "display_name": "Python 3 (ipykernel)",
   "language": "python",
   "name": "python3"
  },
  "language_info": {
   "codemirror_mode": {
    "name": "ipython",
    "version": 3
   },
   "file_extension": ".py",
   "mimetype": "text/x-python",
   "name": "python",
   "nbconvert_exporter": "python",
   "pygments_lexer": "ipython3",
   "version": "3.10.12"
  }
 },
 "nbformat": 4,
 "nbformat_minor": 5
}
