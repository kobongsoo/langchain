{
 "cells": [
  {
   "cell_type": "code",
   "execution_count": null,
   "id": "7ab08036-1d23-4868-8e41-a1fcc9b3c150",
   "metadata": {},
   "outputs": [],
   "source": [
    "# 출처 : https://wikidocs.net/233344\n",
    "# LangChain 설치 및 업데이트\n",
    "#!pip install -U langchain langchain-community langchain-experimental langchain-core langchain-openai langsmith langchainhub python-dotenv unstructured chromadb faiss-cpu rank_bm25 python-docx sqlalchemy"
   ]
  },
  {
   "cell_type": "code",
   "execution_count": null,
   "id": "7d917bbf-549e-4d3b-ad1d-4b32598de24f",
   "metadata": {},
   "outputs": [],
   "source": [
    "# 루트경로에 .env 파일을 만들고, OPENAI_API_KEY='{API_KEY}' 식으로 입력한다.\n",
    "# API 키를 환경변수로 관리하기 위한 .env설정 파일 로딩\n",
    "import os\n",
    "from dotenv import load_dotenv\n",
    "\n",
    "load_dotenv() # API 키 정보 로드\n",
    "print(f\"[API KEY]\\n{os.environ['OPENAI_API_KEY']}\")"
   ]
  },
  {
   "cell_type": "code",
   "execution_count": 9,
   "id": "eb90d89e-709b-4cea-a9a8-befab73e4d06",
   "metadata": {},
   "outputs": [
    {
     "name": "stdout",
     "output_type": "stream",
     "text": [
      "question='엑셀 자격증 시험에서 사용되는 함수 중 데이터를 찾아내는 함수는 무엇인가요?' level='보통' select=['VLOOKUP', 'SUM', 'IF', 'AVERAGE', 'COUNTIF'] answer='VLOOKUP'\n"
     ]
    }
   ],
   "source": [
    "# 구조화된 출력 체인(Structured Output Chain)\n",
    "# 특정 주제에 대한 5지선다형 퀴즈와 정답를 생성하는 과정을 구현합니다.\n",
    "    \n",
    "from langchain.chains.openai_functions import create_structured_output_runnable\n",
    "from langchain_openai import ChatOpenAI\n",
    "from langchain_core.prompts import ChatPromptTemplate\n",
    "from langchain_core.pydantic_v1 import BaseModel, Field\n",
    "from typing import List\n",
    "\n",
    "# Quiz 클래스는 퀴즈의 질문, 난이도, 그리고 5개의 선택지와 정답를 정의합니다.\n",
    "class Quiz(BaseModel):\n",
    "    question:str = Field(..., description=\"퀴즈의 질문\")\n",
    "    level:str = Field(..., description=\"퀴즈의 난의도를 나타냅니다.(쉬움, 보통, 어려움)\")\n",
    "    select:List[str] = Field(..., description=\"퀴즈의 5개 선택지 입니다.\")\n",
    "    answer:str = Field(..., description=\"5개 선택지 중 정답을 나타냅니다.\")\n",
    "\n",
    "# 모델 생성\n",
    "llm = ChatOpenAI(model=\"gpt-3.5-turbo\", temperature=0.1)\n",
    "\n",
    "# 프롬프트 설정\n",
    "# ChatPromptTemplate는 퀴즈 생성을 위한 대화형 프롬프트를 정의합니다.\n",
    "prompt = ChatPromptTemplate.from_messages(\n",
    "    [\n",
    "        (\n",
    "            \"system\",\n",
    "            \"You're a world-famous quizzer and generates quizzes in structured formats.\"\n",
    "        ),\n",
    "        (\n",
    "            \"human\",\n",
    "            \"TOPIC 에 제시된 내용과 관련한 5지선다형 퀴즈를 출제해 주세요.\"\n",
    "            \"한국어로 퀴즈를 만들어주세요.\"\n",
    "            \"만약, 실제 출제된 기출문제가 있다면 비슷한 문제를 만들어 출제하세요.\"\n",
    "            \"정답도 알려주세요.\"\n",
    "            \"단, 문제에 TOPIC 에 대한 내용이나 정보는 포함하지 마세요. \\nTOPIC:\\n{topic}\"\n",
    "        ),\n",
    "    ]\n",
    ")\n",
    "\n",
    "# 체인 생성\n",
    "# create_structured_output_runnable 함수는 이러한 구성 요소를 결합하여 \n",
    "# 주어진 주제에 대한 퀴즈를 생성하는 실행 가능한 체인을 만듭니다.\n",
    "chain = create_structured_output_runnable(Quiz, llm, prompt)\n",
    "\n",
    "# 예측\n",
    "response = chain.invoke({\"topic\":\"엑셀(Excel) 자격증 시험\"})\n",
    "print(response)\n"
   ]
  },
  {
   "cell_type": "code",
   "execution_count": null,
   "id": "f3e67c81-b7e0-4e57-a579-662100b6e41d",
   "metadata": {},
   "outputs": [],
   "source": []
  }
 ],
 "metadata": {
  "kernelspec": {
   "display_name": "Python 3 (ipykernel)",
   "language": "python",
   "name": "python3"
  },
  "language_info": {
   "codemirror_mode": {
    "name": "ipython",
    "version": 3
   },
   "file_extension": ".py",
   "mimetype": "text/x-python",
   "name": "python",
   "nbconvert_exporter": "python",
   "pygments_lexer": "ipython3",
   "version": "3.10.12"
  }
 },
 "nbformat": 4,
 "nbformat_minor": 5
}
