{
 "cells": [
  {
   "cell_type": "code",
   "execution_count": null,
   "id": "e2ff7cd2-a2a6-46c9-98b4-eaec3f49726c",
   "metadata": {},
   "outputs": [],
   "source": [
    "# 셀프 쿼리(Self-querying)\n",
    "# Self-querying retrievers 지원 db (*ElasticSearch도 있음)\n",
    "# => https://python.langchain.com/v0.1/docs/integrations/retrievers/self_query/\n",
    "# ElasticSearch 예제\n",
    "# => https://python.langchain.com/v0.1/docs/integrations/retrievers/self_query/elasticsearch_self_query/\n",
    "# \n",
    "# SelfQueryRetriever 는 자체적으로 질문을 생성하고 해결할 수 있는 기능을 갖춘 검색 도구입니다. \n",
    "# 이는 사용자가 제공한 자연어 질의를 바탕으로, query-constructing LLM chain을 사용해 구조화된 질의를 만듭니다. \n",
    "# 그 후, 이 구조화된 질의를 기본 벡터 데이터 저장소(VectorStore)에 적용하여 검색을 수행합니다.\n",
    "#\n",
    "# 이 과정을 통해, SelfQueryRetriever 는 단순히 사용자의 입력 질의를 저장된 문서의 내용과 의미적으로 비교하는 것을 넘어서, \n",
    "# 사용자의 질의에서 문서의 메타데이터에 대한 필터를 추출하고, 이 필터를 실행하여 관련된 문서를 찾을 수 있습니다. \n",
    "# 이를 통해, 사용자의 질의에 대한 더 정확하고 관련성 높은 결과를 제공할 수 있게 됩니다.\n",
    "\n",
    "# 참고: SelfQueryRetriever 를 사용하려면 lark 패키지를 설치해야 합니다.\n",
    "%pip install -qU lark chromadb"
   ]
  },
  {
   "cell_type": "code",
   "execution_count": null,
   "id": "6406e893-858c-4ae8-983e-29ee6827af7a",
   "metadata": {},
   "outputs": [],
   "source": [
    "# 루트경로에 .env 파일을 만들고, OPENAI_API_KEY='{API_KEY}' 식으로 입력한다.\n",
    "# API 키를 환경변수로 관리하기 위한 .env설정 파일 로딩\n",
    "import os\n",
    "from dotenv import load_dotenv\n",
    "\n",
    "load_dotenv() # API 키 정보 로드\n",
    "print(f\"[OPENAI_API_KEY]\\n{os.environ['OPENAI_API_KEY']}\\n\")\n",
    "print(f\"[HUGGINGFACEHUB_API_TOKEN]\\n{os.environ['HUGGINGFACEHUB_API_TOKEN']}\")"
   ]
  },
  {
   "cell_type": "code",
   "execution_count": 2,
   "id": "599d861b-2452-4711-ae40-c0b110b99bb4",
   "metadata": {},
   "outputs": [],
   "source": [
    "\n",
    "import logging\n",
    "# Set up the logger\n",
    "logging.basicConfig(level=logging.INFO)\n"
   ]
  },
  {
   "cell_type": "code",
   "execution_count": 3,
   "id": "15fdf284-001f-4e7b-8e3f-7112cc5440cb",
   "metadata": {},
   "outputs": [
    {
     "name": "stderr",
     "output_type": "stream",
     "text": [
      "INFO:chromadb.telemetry.product.posthog:Anonymized telemetry enabled. See                     https://docs.trychroma.com/telemetry for more information.\n",
      "INFO:httpx:HTTP Request: POST https://api.openai.com/v1/embeddings \"HTTP/1.1 200 OK\"\n"
     ]
    }
   ],
   "source": [
    "from langchain_community.vectorstores import Chroma\n",
    "from langchain_core.documents import Document\n",
    "from langchain_openai import OpenAIEmbeddings\n",
    "\n",
    "# 영화 내용에 대해 벡터데이터 생\n",
    "\n",
    "docs = [\n",
    "    Document(\n",
    "        page_content=\"많은 과학자들이 공룡을 부활시키고 대혼란이 시작됩니다.e\",\n",
    "        metadata={\"year\": 1993, \"평점\": 7.7, \"장르\": \"SF영화\"},\n",
    "    ),\n",
    "    Document(\n",
    "        page_content=\"레오 디카프리오는 꿈 속의 꿈 속의 꿈 속에서 길을 잃었습니다. ...\",\n",
    "        metadata={\"year\": 2010, \"감독\": \"크리스토퍼 놀란\", \"평점\": 8.2},\n",
    "    ),\n",
    "    Document(\n",
    "        page_content=\"심리학자/탐정은 일련의 꿈 속에서 꿈 속의 꿈 속에서 길을 잃었고 인셉션은 그 아이디어를 재사용했습니다.\",\n",
    "        metadata={\"year\": 2006, \"감독\": \"Satoshi Kon\", \"평점\": 8.6},\n",
    "    ),\n",
    "    Document(\n",
    "        page_content=\"A bunch of normal-sized women are supremely wholesome and some men pine after them\",\n",
    "        metadata={\"year\": 2019, \"감독\": \"Greta Gerwig\", \"평점\": 8.3},\n",
    "    ),\n",
    "    Document(\n",
    "        page_content=\"장난감이 살아 움직이며 신나는 시간을 보내게 됩니다.\",\n",
    "        metadata={\"year\": 1995, \"장르\": \"에니메이션\"},\n",
    "    ),\n",
    "    Document(\n",
    "        page_content=\"세 남자가 구역 안으로 들어가고, 세 남자가 구역 밖으로 나간다.\",\n",
    "        metadata={\n",
    "            \"year\": 1979,\n",
    "            \"감독\": \"Andrei Tarkovsky\",\n",
    "            \"장르\": \"스릴러\",\n",
    "            \"평점\": 9.9,\n",
    "        },\n",
    "    ),\n",
    "]\n",
    "vectorstore = Chroma.from_documents(docs, OpenAIEmbeddings())"
   ]
  },
  {
   "cell_type": "code",
   "execution_count": 7,
   "id": "6b468738-8354-4776-a28e-b153fdc32bcf",
   "metadata": {},
   "outputs": [],
   "source": [
    "from langchain.chains.query_constructor.base import AttributeInfo\n",
    "from langchain.retrievers.self_query.base import SelfQueryRetriever\n",
    "from langchain_openai import ChatOpenAI\n",
    "from langchain.retrievers.self_query.chroma import ChromaTranslator\n",
    "\n",
    "# SelfQueryRetriever 생성하기\n",
    "# 이제 retriever를 인스턴스화할 수 있습니다. 이를 위해서는 문서가 지원하는 메타데이터 필드 와 문서 내용에 대한 간단한 설명을 미리 제공 해야 합니다.\n",
    "# AttributeInfo 클래스를 사용하여 영화 메타데이터 필드에 대한 정보를 정의합니다.\n",
    "# - 장르(genre): 문자열 타입, 영화의 장르를 나타내며 ['science fiction', 'comedy', 'drama', 'thriller', 'romance', 'action', 'animated'] 중 하나의 값을 가집니다.\n",
    "# - 연도(year): 정수 타입, 영화가 개봉된 연도를 나타냅니다.\n",
    "# - 감독(director): 문자열 타입, 영화 감독의 이름을 나타냅니다.\n",
    "# - 평점(rating): 실수 타입, 1-10 범위의 영화 평점을 나타냅니다.\n",
    "\n",
    "metadata_field_info = [\n",
    "    AttributeInfo(\n",
    "        name=\"장르\",\n",
    "        description=\"영화 장르를 보여준다. SF영화, 코미디, 드라마, 스릴러, 로멘스, 엑션, 에니메이션 중 1나\",\n",
    "        type=\"string\",\n",
    "    ),\n",
    "    AttributeInfo(\n",
    "        name=\"year\",\n",
    "        description=\"영화가 개봉한 날짜\",\n",
    "        type=\"integer\",\n",
    "    ),\n",
    "    AttributeInfo(\n",
    "        name=\"감독\",\n",
    "        description=\"영화 만든 감독\",\n",
    "        type=\"string\",\n",
    "    ),\n",
    "    AttributeInfo(\n",
    "        name=\"평점\", description=\"1~10까지 영화평점. 높을수록 좋음.\", type=\"float\"\n",
    "    ),\n",
    "]\n",
    "\n",
    "# 문서의 내용에 대한 간략한 설명\n",
    "document_content_description = \"영화들에 대한 간략 요약\"\n",
    "\n",
    "# LLM 정의\n",
    "llm = ChatOpenAI(model=\"gpt-4-turbo-preview\", temperature=0)\n",
    "\n",
    "# SelfQueryRetriever 생성\n",
    "retriever = SelfQueryRetriever.from_llm(\n",
    "    llm,\n",
    "    vectorstore,\n",
    "    document_content_description,\n",
    "    metadata_field_info,\n",
    "    enable_limit=True,  # 검색 결과 제한 기능을 활성화합니다.\n",
    "    search_kwargs={\"k\": 1},  # k 의 값을 2로 지정하여 검색 결과를 1개로 제한합니다.\n",
    "\n",
    "    # **쿼리 변환기(ChromaTranslator를 사용하여 구조화된 질의를 Chroma 벡터 저장소에 맞게 변환합니다.)\n",
    "    # => ElasticSearch 일때는 필요없음.\n",
    "    # => 다른 db는 쿼리변환기 안하면 복합 필터를 사용하여 검색하는 경우 에러 발생함\n",
    "    structured_query_translator=ChromaTranslator(), \n",
    "    Verbose=True,\n",
    ")"
   ]
  },
  {
   "cell_type": "code",
   "execution_count": 8,
   "id": "96e5972d-bcb3-44f7-a759-6e37db7fe039",
   "metadata": {},
   "outputs": [
    {
     "name": "stderr",
     "output_type": "stream",
     "text": [
      "INFO:httpx:HTTP Request: POST https://api.openai.com/v1/chat/completions \"HTTP/1.1 200 OK\"\n",
      "INFO:httpx:HTTP Request: POST https://api.openai.com/v1/embeddings \"HTTP/1.1 200 OK\"\n"
     ]
    },
    {
     "data": {
      "text/plain": [
       "[Document(page_content='심리학자/탐정은 일련의 꿈 속에서 꿈 속의 꿈 속에서 길을 잃었고 인셉션은 그 아이디어를 재사용했습니다.', metadata={'year': 2006, '감독': 'Satoshi Kon', '평점': 8.6})]"
      ]
     },
     "execution_count": 8,
     "metadata": {},
     "output_type": "execute_result"
    }
   ],
   "source": [
    "# 8.5 이상의 평점을 받은 영화를 보고 싶다는 필터만 지정합니다.\n",
    "retriever.invoke(\"8.5 이상 평점을 받은 영화만 보여주세요.\")"
   ]
  },
  {
   "cell_type": "code",
   "execution_count": 9,
   "id": "bbd3e7f1-d32f-415b-b21c-0a83919fdb82",
   "metadata": {},
   "outputs": [
    {
     "name": "stderr",
     "output_type": "stream",
     "text": [
      "INFO:httpx:HTTP Request: POST https://api.openai.com/v1/chat/completions \"HTTP/1.1 200 OK\"\n",
      "INFO:httpx:HTTP Request: POST https://api.openai.com/v1/embeddings \"HTTP/1.1 200 OK\"\n"
     ]
    },
    {
     "data": {
      "text/plain": [
       "[Document(page_content='A bunch of normal-sized women are supremely wholesome and some men pine after them', metadata={'year': 2019, '감독': 'Greta Gerwig', '평점': 8.3})]"
      ]
     },
     "execution_count": 9,
     "metadata": {},
     "output_type": "execute_result"
    }
   ],
   "source": [
    "# Greta Gerwig가 여성에 관한 영화를 연출한 적이 있는지 질의합니다.\n",
    "retriever.invoke(\"Has Greta Gerwig directed any movies about women\")"
   ]
  },
  {
   "cell_type": "code",
   "execution_count": null,
   "id": "faac6a6b-916f-4b63-9096-72960c4ff86d",
   "metadata": {},
   "outputs": [],
   "source": [
    "# 8.5 이상의 평점을 가진 SF 영화를 검색하는 복합 필터를 지정합니다.\n",
    "# => 복합 필터: rating above 8.5, science fiction\n",
    "retriever.invoke(\"8.5 이상의 평점을 가진 장르가 SF 영화는 어떤것이 있나요?\")"
   ]
  },
  {
   "cell_type": "code",
   "execution_count": null,
   "id": "61ed243b-640b-42e8-aaee-96d0cac8cbcd",
   "metadata": {},
   "outputs": [],
   "source": [
    "#이 질의 역시 복합 필터를 사용하여 검색 결과를 필터링합니다.\n",
    "# => 복합 필터: 1990 ~ 2005년, 장난관 관련 영화, 에니메이션 영화 선호\n",
    "\n",
    "# 에러가 발생하는 쿼리\n",
    "retriever.invoke(\n",
    "    # 1990년 이후 2005년 이전에 제작된 장난감에 관한 영화를 검색하며, 애니메이션 영화를 선호한다는 쿼리와 복합 필터를 지정합니다.\n",
    "    \"장남감 관련 영화이면서 장르가 에니메이션인 영화 알려주세요\"\n",
    ")"
   ]
  },
  {
   "cell_type": "code",
   "execution_count": null,
   "id": "4cec4f64-aa7f-4deb-9721-4a225122ebf7",
   "metadata": {},
   "outputs": [],
   "source": []
  }
 ],
 "metadata": {
  "kernelspec": {
   "display_name": "Python 3 (ipykernel)",
   "language": "python",
   "name": "python3"
  },
  "language_info": {
   "codemirror_mode": {
    "name": "ipython",
    "version": 3
   },
   "file_extension": ".py",
   "mimetype": "text/x-python",
   "name": "python",
   "nbconvert_exporter": "python",
   "pygments_lexer": "ipython3",
   "version": "3.10.12"
  }
 },
 "nbformat": 4,
 "nbformat_minor": 5
}
