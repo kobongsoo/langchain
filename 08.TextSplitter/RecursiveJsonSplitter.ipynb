{
 "cells": [
  {
   "cell_type": "code",
   "execution_count": null,
   "id": "78fff524-8576-466d-878c-b625ec145e3f",
   "metadata": {},
   "outputs": [],
   "source": [
    "# RecursiveJsonSplitter\n",
    "# 이 JSON 분할기는 JSON 데이터를 깊이 우선 탐색(depth-first traversal)하여 더 작은 JSON 청크(chunk)를 생성합니다.\n",
    "# 이 분할기는 중첩된 JSON 객체를 가능한 한 유지하려고 시도하지만, \n",
    "# 청크의 크기를 min_chunk_size와 max_chunk_size 사이로 유지하기 위해 필요한 경우 객체를 분할합니다. \n",
    "# 값이 중첩된 JSON이 아니라 매우 큰 문자열인 경우, 해당 문자열은 분할되지 않습니다.\n",
    "# 청크 크기에 대한 엄격한 제한이 필요한 경우, 이 분할기 이후에 Recursive Text Splitter를 사용하여 해당 청크를 처리하는 것을 고려해 볼 수 있습니다.\n",
    "\n",
    "# 분할하는 기준\n",
    "# -텍스트 분할 방식: JSON 값 기준\n",
    "# -청크 크기 측정 방식: 문자 수 기준\n",
    "\n",
    "# %pip install -qU langchain-text-splitters"
   ]
  },
  {
   "cell_type": "code",
   "execution_count": 7,
   "id": "e641ff09-7fa2-49ba-bcf8-dc52df469c04",
   "metadata": {},
   "outputs": [
    {
     "name": "stdout",
     "output_type": "stream",
     "text": [
      "{\"openapi\": \"3.1.0\", \"info\": {\"title\": \"LangSmith\", \"version\": \"0.1.0\"}, \"servers\": [{\"url\": \"https://api.smith.langchain.com\", \"description\": \"LangSmith API endpoint.\"}]}\n",
      "============================================================\n",
      "{\"openapi\": \"3.1.0\", \"info\": {\"title\": \"LangSmith\", \"version\": \"0.1.0\"}, \"servers\": [{\"url\": \"https://api.smith.langchain.com\", \"description\": \"LangSmith API endpoint.\"}]}\n"
     ]
    }
   ],
   "source": [
    "# requests.get() 함수를 사용하여 \"https://api.smith.langchain.com/openapi.json\" URL에서 JSON 데이터를 가져옵니다.\n",
    "# 가져온 JSON 데이터는 json() 메서드를 통해 Python 딕셔너리 형태로 변환되어 json_data 변수에 저장됩니다.\n",
    "\n",
    "import requests\n",
    "\n",
    "# JSON 데이터를 로드합니다.\n",
    "json_data = requests.get(\"https://api.smith.langchain.com/openapi.json\").json()\n",
    "\n",
    "from langchain_text_splitters import RecursiveJsonSplitter\n",
    "\n",
    "# JSON 데이터를 최대 300 크기의 청크로 분할하는 RecursiveJsonSplitter 객체를 생성합니다.\n",
    "splitter = RecursiveJsonSplitter(max_chunk_size=300)\n",
    "\n",
    "# JSON 데이터를 재귀적으로 분할합니다. 작은 JSON 조각에 접근하거나 조작해야 하는 경우에 사용합니다.\n",
    "json_chunks = splitter.split_json(json_data=json_data)\n",
    "\n",
    "# JSON 데이터를 기반으로 문서를 생성합니다.\n",
    "docs = splitter.create_documents(texts=[json_data])\n",
    "\n",
    "# JSON 데이터를 기반으로 문자열 청크를 생성합니다.\n",
    "texts = splitter.split_text(json_data=json_data)\n",
    "\n",
    "# 첫 번째 문자열을 출력합니다.\n",
    "print(docs[0].page_content)\n",
    "\n",
    "print(\"===\" * 20)\n",
    "# 분할된 문자열 청크를 출력합니다.\n",
    "print(texts[0])\n"
   ]
  },
  {
   "cell_type": "code",
   "execution_count": 8,
   "id": "2b380696-8d17-4335-b7bc-eb43ddb69a7c",
   "metadata": {},
   "outputs": [
    {
     "name": "stdout",
     "output_type": "stream",
     "text": [
      "[171, 231, 126, 469, 210, 213, 237, 271, 191, 232]\n",
      "*type: <class 'str'>\n",
      "{\"paths\": {\"/api/v1/sessions/{session_id}\": {\"get\": {\"parameters\": [{\"name\": \"session_id\", \"in\": \"path\", \"required\": true, \"schema\": {\"type\": \"string\", \"format\": \"uuid\", \"title\": \"Session Id\"}}, {\"name\": \"include_stats\", \"in\": \"query\", \"required\": false, \"schema\": {\"type\": \"boolean\", \"default\": false, \"title\": \"Include Stats\"}}, {\"name\": \"accept\", \"in\": \"header\", \"required\": false, \"schema\": {\"anyOf\": [{\"type\": \"string\"}, {\"type\": \"null\"}], \"title\": \"Accept\"}}]}}}}\n"
     ]
    }
   ],
   "source": [
    "# 청크의 크기를 확인해 봅시다.\n",
    "print([len(text) for text in texts][:10])\n",
    "\n",
    "# 더 큰 청크 중 하나를 검토해 보면 리스트 객체가 있는 것을 볼 수 있습니다.\n",
    "print(f'*type: {type(texts[3])}')\n",
    "print(texts[3])"
   ]
  },
  {
   "cell_type": "code",
   "execution_count": 5,
   "id": "1fcd9633-9ad0-40b6-960b-9c02f21472b5",
   "metadata": {},
   "outputs": [
    {
     "data": {
      "text/plain": [
       "{'/api/v1/sessions/{session_id}': {'get': {'parameters': [{'name': 'session_id',\n",
       "     'in': 'path',\n",
       "     'required': True,\n",
       "     'schema': {'type': 'string', 'format': 'uuid', 'title': 'Session Id'}},\n",
       "    {'name': 'include_stats',\n",
       "     'in': 'query',\n",
       "     'required': False,\n",
       "     'schema': {'type': 'boolean',\n",
       "      'default': False,\n",
       "      'title': 'Include Stats'}},\n",
       "    {'name': 'accept',\n",
       "     'in': 'header',\n",
       "     'required': False,\n",
       "     'schema': {'anyOf': [{'type': 'string'}, {'type': 'null'}],\n",
       "      'title': 'Accept'}}]}}}"
      ]
     },
     "execution_count": 5,
     "metadata": {},
     "output_type": "execute_result"
    }
   ],
   "source": [
    "import json\n",
    "\n",
    "# paths 만 json 파싱해서 얻어냄.\n",
    "json_data = json.loads(texts[3])\n",
    "json_data[\"paths\"]"
   ]
  },
  {
   "cell_type": "code",
   "execution_count": null,
   "id": "1d4af4fb-fbc3-4a70-acae-6053553885da",
   "metadata": {},
   "outputs": [],
   "source": []
  }
 ],
 "metadata": {
  "kernelspec": {
   "display_name": "Python 3 (ipykernel)",
   "language": "python",
   "name": "python3"
  },
  "language_info": {
   "codemirror_mode": {
    "name": "ipython",
    "version": 3
   },
   "file_extension": ".py",
   "mimetype": "text/x-python",
   "name": "python",
   "nbconvert_exporter": "python",
   "pygments_lexer": "ipython3",
   "version": "3.10.12"
  }
 },
 "nbformat": 4,
 "nbformat_minor": 5
}
