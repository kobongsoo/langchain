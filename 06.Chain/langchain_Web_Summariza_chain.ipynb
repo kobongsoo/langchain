{
 "cells": [
  {
   "cell_type": "code",
   "execution_count": null,
   "id": "7ab08036-1d23-4868-8e41-a1fcc9b3c150",
   "metadata": {},
   "outputs": [],
   "source": [
    "# 출처 : https://wikidocs.net/233344\n",
    "# LangChain 설치 및 업데이트\n",
    "#!pip install -U langchain langchain-community langchain-experimental langchain-core langchain-openai langsmith langchainhub python-dotenv unstructured chromadb faiss-cpu rank_bm25 python-docx sqlalchemy"
   ]
  },
  {
   "cell_type": "code",
   "execution_count": null,
   "id": "e14af3d5-b355-4d90-b9f9-9dff657dbde5",
   "metadata": {},
   "outputs": [],
   "source": [
    "# 루트경로에 .env 파일을 만들고, OPENAI_API_KEY='{API_KEY}' 식으로 입력한다.\n",
    "# API 키를 환경변수로 관리하기 위한 .env설정 파일 로딩\n",
    "import os\n",
    "from dotenv import load_dotenv\n",
    "\n",
    "load_dotenv() # API 키 정보 로드\n",
    "print(f\"[API KEY]\\n{os.environ['OPENAI_API_KEY']}\")"
   ]
  },
  {
   "cell_type": "code",
   "execution_count": 2,
   "id": "344949ee-bcff-4d05-bf54-0549cfccc13d",
   "metadata": {},
   "outputs": [
    {
     "data": {
      "text/plain": [
       "ChatPromptTemplate(input_variables=['ARTICLE'], metadata={'lc_hub_owner': 'teddynote', 'lc_hub_repo': 'chain-of-density-korean', 'lc_hub_commit_hash': 'f7122cae5cd37900b29543353cb15dbd8dd8f0a6fd20c4413a9a958c19b800c9'}, messages=[HumanMessagePromptTemplate(prompt=PromptTemplate(input_variables=['ARTICLE'], template='Article: {ARTICLE}\\nYou will generate increasingly concise, entity-dense summaries of the above article. \\n\\nRepeat the following 2 steps 5 times. \\n\\nStep 1. Identify 1-3 informative entities (\";\" delimited) from the article which are missing from the previously generated summary. \\nStep 2. Write a new, denser summary of identical length which covers every entity and detail from the previous summary plus the missing entities. \\n\\nA missing entity is:\\n- relevant to the main story, \\n- specific yet concise (100 words or fewer), \\n- novel (not in the previous summary), \\n- faithful (present in the article), \\n- anywhere (can be located anywhere in the article).\\n\\nGuidelines:\\n\\n- The first summary should be long (8-10 sentences, ~200 words) yet highly non-specific, containing little information beyond the entities marked as missing. Use overly verbose language and fillers (e.g., \"this article discusses\") to reach ~200 words.\\n- Make every word count: rewrite the previous summary to improve flow and make space for additional entities.\\n- Make space with fusion, compression, and removal of uninformative phrases like \"the article discusses\".\\n- The summaries should become highly dense and concise yet self-contained, i.e., easily understood without the article. \\n- Missing entities can appear anywhere in the new summary.\\n- Never drop entities from the previous summary. If space cannot be made, add fewer new entities. \\n\\nRemember, use the exact same number of words for each summary.\\nAnswer in JSON. The JSON should be a list (length 5) of dictionaries whose keys are \"Missing_Entities\" and \"Denser_Summary\".\\nUse only KOREAN language to reply.'))])"
      ]
     },
     "execution_count": 2,
     "metadata": {},
     "output_type": "execute_result"
    }
   ],
   "source": [
    "from langchain import hub\n",
    "from langchain_openai import ChatOpenAI\n",
    "from langchain_core.output_parsers import JsonOutputParser\n",
    "from langchain.document_loaders import WebBaseLoader, TextLoader\n",
    "from langchain.callbacks.base import BaseCallbackHandler\n",
    "\n",
    "prompt = hub.pull(\"teddynote/chain-of-density-korean\")\n",
    "prompt"
   ]
  },
  {
   "cell_type": "code",
   "execution_count": 4,
   "id": "edf6d6ae-d3e4-45bc-83fe-09c483979979",
   "metadata": {},
   "outputs": [
    {
     "name": "stdout",
     "output_type": "stream",
     "text": [
      "*문서의 수: 2\n",
      "\n",
      "*context 길이: 4068\n",
      "\n",
      "========= [앞부분] 미리보기 =========\n",
      "\n",
      "경조사 지원 규정\n",
      "1. 적용대상\n",
      "계약직 사원을 포함한 임직원(고문 및 용역은 사장이 별도로 결정)\n",
      "2. 경조사 지원기준\n",
      "구 분\n",
      "내 역\n",
      "휴가(일)\n",
      "금액(원)\n",
      "기타\n",
      "경 사\n",
      "본인 결혼\n",
      "\n",
      "[\n",
      "    {\n",
      "        \"Missing_Entities\": \"결혼퇴직\",\n",
      "        \"Denser_Summary\": \"이 규정은 2007년 9월 14일부터 시행되며, 결혼퇴직의 경우 퇴직 1개월 이내에 결혼할 시에는 경조금을 지급한다. 경조금 신청 시 휴가 신청도 동시에 진행해야 하며, 특별한 경우 사업부장 합의 시 경조금 신청일 이후 6개월 이내에 신청 가능하다. 부모 회갑, 배우자 부모회갑, 부모고희, 배우자부모고희 등의 경우에도 경조금이 지급된다.\"\n",
      "    },\n",
      "    {\n",
      "        \"Missing_Entities\": \"신규채용\",\n",
      "        \"Denser_Summary\": \"월급여는 매월 20일 지급되며, 신규채용 및 복직자의 급여는 발령일로부터 일할계산된다. 신규채용되어 수습기간중인 자는 월급여의 90%를 받으며, 복직자의 급여는 휴직당시 직급·호봉에 해당하는 현급여액을 받는다. 또한, 전임·파견, 복귀자의 급여는 발령일을 기준으로 매월 20일까지 신근무지에서, 21일 이후에는 전근무지에서 지급된다.\"\n",
      "    },\n",
      "    {\n",
      "        \"Missing_Entities\": \"퇴직자\",\n",
      "        \"Denser_Summary\": \"퇴직자의 경우 퇴직명령전일까지의 급여를 일할계산하여 지급하며, 퇴직금은 만 1년이상 근속한 직원이 퇴직할 경우에 지급된다. 퇴직금은 근속년수에 따라 평균임금의 30일분을 지급하며, 등기임원으로 선임된 경우에는 발령일을 기준으로 퇴직금을 계산하여 지급한다. 또한, 퇴직금은 평균임금 × 30 × 근속기간 / 365에 의해 계산되어 원단위에서 절사된다.\"\n",
      "    },\n",
      "    {\n",
      "        \"Missing_Entities\": \"승진자\",\n",
      "        \"Denser_Summary\": \"승진자의 월급여는 상위직급으로 승진한 경우에는 승진된 직급의 초임을 적용하며, 승진후 월급여가 승진전 월급여보다 적은 경우에는 조정수당으로 차액을 보완한다. 정기승급은 매년 1월 1일부로 인사고과에 의해 인사위원회에서 결정되며, 특별승급은 인사위원회의 결정에 의해 년간 3 LEVEL내에서 실시된다. 승급기준은 인사고과 결과에 따라 상위 5%이내는 5 LEVEL, 5% 초과 25% 이내는 4 LEVEL, 25% 초과 85% 이내는 3 LEVEL로 결정된다.\"\n",
      "    },\n",
      "    {\n",
      "        \"Missing_Entities\": \"휴직자\",\n",
      "        \"Denser_Summary\": \"휴직자의 급여는 업무상 상병으로 인한 휴직기간의 경우 산업재해보상보험법에 따른 휴업급여를 받으며, 일신상 상병으로 인한 휴직의 경우 최초 3개월간 월급여의 100%를 받는다. 징집명령에 의한 휴직자는 휴직발령일로부터 복직발령일 전일까지 급여를 받지 않는다. 또한, 개인적인 사정으로 휴직한 경우에는 그 기간동안의 급여는 받지 않는다. 휴직인 경우 정기승급은 보류되며, 복직 후에 승급이 이루어진다.\"\n",
      "    }\n",
      "]휴직자의 급여는 업무상 상병으로 인한 휴직기간의 경우 산업재해보상보험법에 따른 휴업급여를 받으며, 일신상 상병으로 인한 휴직의 경우 최초 3개월간 월급여의 100%를 받는다. 징집명령에 의한 휴직자는 휴직발령일로부터 복직발령일 전일까지 급여를 받지 않는다. 또한, 개인적인 사정으로 휴직한 경우에는 그 기간동안의 급여는 받지 않는다. 휴직인 경우 정기승급은 보류되며, 복직 후에 승급이 이루어진다.\n"
     ]
    }
   ],
   "source": [
    "# Load some data to summarize\n",
    "\n",
    "#loader = WebBaseLoader(\"https://www.aitimes.com/news/articleView.html?idxno=131777\")\n",
    "#docs = loader.load()\n",
    "#content = docs[0].page_content\n",
    "\n",
    "# ./data 폴더에 있는 .txt 확장자 파일을 모두 불러옴.\n",
    "data_folder = \"./data\"\n",
    "docs = []\n",
    "content:str = ''\n",
    "\n",
    "for filename in os.listdir(data_folder):\n",
    "    if filename.endswith(\".txt\"):\n",
    "        file_path = os.path.join(data_folder, filename)\n",
    "        loader = TextLoader(file_path)\n",
    "        docs.extend(loader.load())\n",
    "\n",
    "print(f\"*문서의 수: {len(docs)}\\n\")\n",
    "for doc in docs:\n",
    "    content += doc.page_content\n",
    "print(f'*context 길이: {len(content)}')\n",
    "print(\"\\n========= [앞부분] 미리보기 =========\\n\")    \n",
    "print(content[:100])\n",
    "\n",
    "class StreamCallback(BaseCallbackHandler):\n",
    "    def on_llm_new_token(self, token, **kwargs):\n",
    "        print(token, end=\"\", flush=True)\n",
    "\n",
    "\n",
    "# Create the chain, including\n",
    "chain = (\n",
    "    prompt\n",
    "    | ChatOpenAI(\n",
    "        temperature=0,\n",
    "        model=\"gpt-3.5-turbo\",\n",
    "        streaming=True,\n",
    "        callbacks=[StreamCallback()],\n",
    "    )\n",
    "    | JsonOutputParser()\n",
    "    | (lambda x: x[-1][\"Denser_Summary\"])\n",
    ")\n",
    "\n",
    "# Invoke the chain\n",
    "result = chain.invoke({\"ARTICLE\": content})\n",
    "print(result)"
   ]
  },
  {
   "cell_type": "code",
   "execution_count": null,
   "id": "c788e547-805a-4ad1-9d76-19ee04b94418",
   "metadata": {},
   "outputs": [],
   "source": []
  }
 ],
 "metadata": {
  "kernelspec": {
   "display_name": "Python 3 (ipykernel)",
   "language": "python",
   "name": "python3"
  },
  "language_info": {
   "codemirror_mode": {
    "name": "ipython",
    "version": 3
   },
   "file_extension": ".py",
   "mimetype": "text/x-python",
   "name": "python",
   "nbconvert_exporter": "python",
   "pygments_lexer": "ipython3",
   "version": "3.10.12"
  }
 },
 "nbformat": 4,
 "nbformat_minor": 5
}
