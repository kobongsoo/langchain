{
 "cells": [
  {
   "cell_type": "code",
   "execution_count": null,
   "id": "7ab08036-1d23-4868-8e41-a1fcc9b3c150",
   "metadata": {},
   "outputs": [],
   "source": [
    "# 출처 : https://wikidocs.net/233344\n",
    "# LangChain 설치 및 업데이트\n",
    "#!pip install -U langchain langchain-community langchain-experimental langchain-core langchain-openai langsmith langchainhub python-dotenv unstructured chromadb faiss-cpu rank_bm25 python-docx sqlalchemy"
   ]
  },
  {
   "cell_type": "code",
   "execution_count": null,
   "id": "7d917bbf-549e-4d3b-ad1d-4b32598de24f",
   "metadata": {},
   "outputs": [],
   "source": [
    "# 루트경로에 .env 파일을 만들고, GOOGLE_API_KEY='{API_KEY}' 식으로 입력한다.\n",
    "# API 키를 환경변수로 관리하기 위한 .env설정 파일 로딩\n",
    "import os\n",
    "from dotenv import load_dotenv\n",
    "\n",
    "load_dotenv() # API 키 정보 로드\n",
    "print(f\"[API KEY]\\n{os.environ['GOOGLE_API_KEY']}\")"
   ]
  },
  {
   "cell_type": "code",
   "execution_count": null,
   "id": "d9874e6c-fc07-4688-855c-3017b3b02396",
   "metadata": {},
   "outputs": [],
   "source": [
    "# google langchain 설치\n",
    "#!pip install --upgrade --quiet langchain-google-genai pillow"
   ]
  },
  {
   "cell_type": "code",
   "execution_count": 6,
   "id": "cb854c0c-183c-4491-b29f-7400652962ef",
   "metadata": {},
   "outputs": [
    {
     "name": "stdout",
     "output_type": "stream",
     "text": [
      "자연어처리는 컴퓨터가 인간 언어를 이해하고 생성하도록 하는 인공지능의 한 분야로, 데이터 분석, 기계 번역, 챗봇 개발 등 다양한 분야에서 활용됩니다.\n"
     ]
    },
    {
     "name": "stderr",
     "output_type": "stream",
     "text": [
      "/MOCOMSYS/anaconda3/envs/bong/lib/python3.9/site-packages/langchain_google_genai/chat_models.py:326: UserWarning: Convert_system_message_to_human will be deprecated!\n",
      "  warnings.warn(\"Convert_system_message_to_human will be deprecated!\")\n"
     ]
    },
    {
     "name": "stdout",
     "output_type": "stream",
     "text": [
      "content='예' response_metadata={'prompt_feedback': {'block_reason': 0, 'safety_ratings': []}, 'finish_reason': 'STOP', 'safety_ratings': [{'category': 'HARM_CATEGORY_SEXUALLY_EXPLICIT', 'probability': 'NEGLIGIBLE', 'blocked': False}, {'category': 'HARM_CATEGORY_HATE_SPEECH', 'probability': 'NEGLIGIBLE', 'blocked': False}, {'category': 'HARM_CATEGORY_HARASSMENT', 'probability': 'NEGLIGIBLE', 'blocked': False}, {'category': 'HARM_CATEGORY_DANGEROUS_CONTENT', 'probability': 'NEGLIGIBLE', 'blocked': False}]} id='run-0b2cb57c-af63-4b4a-b0ee-13d026c27f1a-0'\n"
     ]
    }
   ],
   "source": [
    "from langchain_google_genai import ChatGoogleGenerativeAI\n",
    "\n",
    "# ChatGoogleGenerativeAI 언어 모델을 \"gemini-pro\" 모델로 초기화합니다.\n",
    "llm = ChatGoogleGenerativeAI(model=\"gemini-pro\")\n",
    "\n",
    "# 언어 모델에 \"자연어처리에 대해서 간략히 설명해 줘\"는 프롬프트를 전달하여 결과를 생성합니다.\n",
    "result = llm.invoke(\"자연어처리에 대해서 100자로 간략히 설명해 줘\")\n",
    "print(result.content)  # 생성된 결과의 내용을 출력합니다.\n",
    "\n",
    "# Gemini는 현재 SystemMessage를 지원하지 않습니다.\n",
    "# 그러나 convert_system_message_to_human을 True로 설정하면, 첫 번째 human message에 SystemMessage를 추가할 수 있습니다.\n",
    "# 이러한 동작을 원한다면, convert_system_message_to_human을 True로 설정하면 됩니다.\n",
    "\n",
    "from langchain_core.messages import HumanMessage, SystemMessage\n",
    "\n",
    "model = ChatGoogleGenerativeAI(\n",
    "    model=\"gemini-pro\",  # 사용할 모델을 지정합니다.\n",
    "    convert_system_message_to_human=True,  # 시스템 메시지를 사람 메시지로 변환할지 여부를 설정합니다.\n",
    ")\n",
    "\n",
    "response = model.invoke(\n",
    "    [\n",
    "        # 시스템 메시지로 \"yes 또는 no로만 대답하세요.\"라는 내용을 전달합니다.\n",
    "        SystemMessage(content=\"Answer only yes or no.\"),\n",
    "        # 사람 메시지로 \"사과는 과일인가요?\"라는 질문을 전달합니다.\n",
    "        HumanMessage(content=\"사과는 과일인가요?\"),\n",
    "    ]\n",
    ")\n",
    "\n",
    "print(response)"
   ]
  },
  {
   "cell_type": "code",
   "execution_count": 7,
   "id": "36231d81-6669-4479-bfa8-c9e91923c0f3",
   "metadata": {},
   "outputs": [
    {
     "name": "stdout",
     "output_type": "stream",
     "text": [
      "## Google의 기업 역사\n",
      "\n",
      "### 초기 (1996-2004)\n",
      "- 1996년: 스탠포드 대학의 컴퓨터 과학 박사 과정생인 래리 페이지와 세르게이 브린이 \"백링크\"라는 이름의 검색 엔진을 개발.\n",
      "- 1998년: 회사 이름을 \"Google\"로 변경.\n",
      "- 1999년: 벤처 캐피털리스트 클라이너 퍼킨스 코필드 바이어스(Kleiner Perkins Caufield & Byers)로부터 시드 펀딩 2500만 달러를 확보.\n",
      "- 2000년: Google 애드워즈(현재 Google 애즈) 출시, 검색 결과에 유료 광고를 표시.\n",
      "- 2001년: Google 뉴스, Google 이미지, Google 책 등 추가 제품 출시.\n",
      "- 2004년: 주식 공개로 19억 달러를 모금.\n",
      "\n",
      "### 확장 및 지배 (2005-2015)\n",
      "- 2005년: Google 지도, Google 어스 출시.\n",
      "- 2006년: YouTube 인수.\n",
      "- 2007년: 모바일 운영 체제인 Android 출시.\n",
      "- 2010년: Google Chrome 브라우저 출시.\n",
      "- 2011년: Google+ 소셜 네트워크 출시.\n",
      "- 2012년: 모토로라 모빌리티 인수.\n",
      "- 2014년: 네스트랩스 인수.\n",
      "\n",
      "### 지속적인 혁신 및 성장 (2016-현재)\n",
      "- 2015년: 알파벳(Alphabet)라는 모회사를 설립하여 Google 및 기타 자회사를 관리.\n",
      "- 2016년: Google 딥마인드가 알파고(AlphaGo)를 통해 인간 세계 챔피언을 처음으로 물리침.\n",
      "- 2017년: Pixel 스마트폰 출시.\n",
      "- 2018년: Google 스테이디어 클라우드 게임 플랫폼 출시.\n",
      "- 2019년: Google 렌즈 출시, 현실 세계의 물체를 식별하고 정보를 제공.\n",
      "- 2020년: COVID-19 대유행으로 인해 원격 작업 및 온라인 서비스 수요 증가.\n",
      "- 2021년: Google 워크스페이스 출시, 통합된 생산성 및 협업 도구 제품군."
     ]
    }
   ],
   "source": [
    "# 스트림 \n",
    "# ChatGoogleGenerativeAI는 기본적으로 스트리밍과 배치 처리를 지원합니다.\n",
    "# 아래는 그 예시입니다.\n",
    "# llm 객체의 stream 메서드를 사용하여 \"Google 의 기업 역사에 대해서 markdown 형식으로 작성해 줘\" 라는 프롬프트에 대한 응답을 생성합니다.\n",
    "# 생성된 응답은 청크(chunk) 단위로 반환되며, 각 청크는 하나 이상의 토큰을 포함할 수 있습니다.\n",
    "# 반환된 각 청크의 내용(content)을 출력합니다.\n",
    "\n",
    "# LLM을 사용하여 \"LLM에 대한 limerick을 작성하라\"는 프롬프트를 전달하고, 생성된 텍스트를 청크 단위로 스트리밍합니다.\n",
    "for chunk in llm.stream(\"Google 의 기업 역사에 대해서 markdown 형식으로 작성해 줘\"):\n",
    "    print(chunk.content, end=\"\", flush=True)  # 각 청크의 내용을 출력합니다.\n",
    "# 각 청크는 하나 이상의 \"토큰\"을 포함할 수 있습니다."
   ]
  },
  {
   "cell_type": "code",
   "execution_count": null,
   "id": "76fa3a8d-f7bb-40d5-b73c-e4ccd309c051",
   "metadata": {},
   "outputs": [],
   "source": []
  }
 ],
 "metadata": {
  "kernelspec": {
   "display_name": "Python 3 (ipykernel)",
   "language": "python",
   "name": "python3"
  },
  "language_info": {
   "codemirror_mode": {
    "name": "ipython",
    "version": 3
   },
   "file_extension": ".py",
   "mimetype": "text/x-python",
   "name": "python",
   "nbconvert_exporter": "python",
   "pygments_lexer": "ipython3",
   "version": "3.10.12"
  }
 },
 "nbformat": 4,
 "nbformat_minor": 5
}
